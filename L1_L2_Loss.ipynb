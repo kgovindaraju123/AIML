{
  "nbformat": 4,
  "nbformat_minor": 0,
  "metadata": {
    "colab": {
      "name": "L1_L2_Loss.ipynb",
      "provenance": [],
      "collapsed_sections": [],
      "include_colab_link": true
    },
    "kernelspec": {
      "name": "python3",
      "display_name": "Python 3"
    }
  },
  "cells": [
    {
      "cell_type": "markdown",
      "metadata": {
        "id": "view-in-github",
        "colab_type": "text"
      },
      "source": [
        "<a href=\"https://colab.research.google.com/github/kgovindaraju123/AIML/blob/master/L1_L2_Loss.ipynb\" target=\"_parent\"><img src=\"https://colab.research.google.com/assets/colab-badge.svg\" alt=\"Open In Colab\"/></a>"
      ]
    },
    {
      "cell_type": "code",
      "metadata": {
        "id": "j3myd-kMb3C4",
        "colab_type": "code",
        "colab": {}
      },
      "source": [
        "import numpy as np\n",
        "import pandas as pd\n",
        "from sklearn.model_selection import train_test_split\n",
        "from sklearn.ensemble import GradientBoostingRegressor\n",
        "from statsmodels.tools.eval_measures import rmse\n",
        "import matplotlib.pylab as plt\n",
        "\n",
        "# Make pylab inline and set the theme to 'ggplot'\n",
        "plt.style.use('ggplot')\n",
        "\n",
        "\n",
        "# Read Boston Housing Data\n",
        "data = pd.read_csv('Housing.csv')\n",
        "\n",
        "# Create a data frame with all the independent features\n",
        "data_indep = data.drop('medv', axis = 1)\n",
        "\n",
        "# Create a target vector(vector of dependent variable, i.e. 'medv')\n",
        "data_dep = data['medv']\n",
        "\n",
        "# Split data into training and test sets\n",
        "train_X, test_X, train_y, test_y = train_test_split(data_indep, data_dep,test_size = 0.20,random_state = 42)"
      ],
      "execution_count": 0,
      "outputs": []
    },
    {
      "cell_type": "markdown",
      "metadata": {
        "id": "RN7-7bqTcxMH",
        "colab_type": "text"
      },
      "source": [
        "Regression without any Outliers:\n",
        "\n",
        "At this moment, our housing dataset is pretty much clean and doesn’t contain any outliers as such. So let’s fit a GB regressor with L1 and L2 loss functions."
      ]
    },
    {
      "cell_type": "code",
      "metadata": {
        "id": "uVYphRqWcvnO",
        "colab_type": "code",
        "outputId": "0bfbf027-665a-46b4-c09e-5a109b699407",
        "colab": {
          "base_uri": "https://localhost:8080/",
          "height": 34
        }
      },
      "source": [
        "# GradientBoostingRegressor with a L1(Least Absolute Deviations) loss function\n",
        "# Set a random seed so that we can reproduce the results\n",
        "np.random.seed(32767)\n",
        "\n",
        "mod = GradientBoostingRegressor(loss='lad')\n",
        "\n",
        "fit = mod.fit(train_X, train_y)\n",
        "predict = fit.predict(test_X)\n",
        "\n",
        "# Root Mean Squared Error\n",
        "print(\"RMSE -> %f\" % rmse(predict, test_y))"
      ],
      "execution_count": 13,
      "outputs": [
        {
          "output_type": "stream",
          "text": [
            "RMSE -> 3.372776\n"
          ],
          "name": "stdout"
        }
      ]
    },
    {
      "cell_type": "markdown",
      "metadata": {
        "id": "4-UzbCVzdDzx",
        "colab_type": "text"
      },
      "source": [
        "With a L1 loss function and no outlier we get a value of RMSE: 3.440147. Let’s see what results we get with L2 loss function."
      ]
    },
    {
      "cell_type": "code",
      "metadata": {
        "id": "0SePIVoldElw",
        "colab_type": "code",
        "outputId": "fef3c155-4876-4c58-b4b4-131b7401025c",
        "colab": {
          "base_uri": "https://localhost:8080/",
          "height": 34
        }
      },
      "source": [
        "# GradientBoostingRegressor with L2(Least Square errors) loss function\n",
        "mod = GradientBoostingRegressor(loss='ls')\n",
        "\n",
        "fit = mod.fit(train_X, train_y)\n",
        "predict = fit.predict(test_X)\n",
        "\n",
        "# Root Mean Squared Error\n",
        "print (\"RMSE -> %f\" % rmse(predict, test_y))"
      ],
      "execution_count": 14,
      "outputs": [
        {
          "output_type": "stream",
          "text": [
            "RMSE -> 2.502083\n"
          ],
          "name": "stdout"
        }
      ]
    },
    {
      "cell_type": "markdown",
      "metadata": {
        "id": "Sce7okp_dMqo",
        "colab_type": "text"
      },
      "source": [
        "This prints out a mean squared value of RMSE -> 2.542019.\n",
        "\n",
        "As apparent from RMSE errors of L1 and L2 loss functions, Least Squares(L2) outperform L1, when there are no outliers in the data.\n",
        "Regression with Outliers:\n",
        "\n",
        "After looking at the minimum and maximum values of ‘medv’ column, we can see that the range of values in ‘medv’ is [5, 50].\n",
        "Let’s add a few Outliers in this Dataset, so that we can see some significant differences with L1 and L2 loss functions."
      ]
    },
    {
      "cell_type": "code",
      "metadata": {
        "id": "ZUVBsNEcdSTF",
        "colab_type": "code",
        "outputId": "5a9683a8-d200-4118-da17-45e61af8ea49",
        "colab": {
          "base_uri": "https://localhost:8080/",
          "height": 111
        }
      },
      "source": [
        "# Get upper and lower bounds[min, max] of all the features\n",
        "stats = data.describe()\n",
        "extremes = stats.loc[['min', 'max'],:].drop('medv', axis = 1)\n",
        "extremes"
      ],
      "execution_count": 15,
      "outputs": [
        {
          "output_type": "execute_result",
          "data": {
            "text/html": [
              "<div>\n",
              "<style scoped>\n",
              "    .dataframe tbody tr th:only-of-type {\n",
              "        vertical-align: middle;\n",
              "    }\n",
              "\n",
              "    .dataframe tbody tr th {\n",
              "        vertical-align: top;\n",
              "    }\n",
              "\n",
              "    .dataframe thead th {\n",
              "        text-align: right;\n",
              "    }\n",
              "</style>\n",
              "<table border=\"1\" class=\"dataframe\">\n",
              "  <thead>\n",
              "    <tr style=\"text-align: right;\">\n",
              "      <th></th>\n",
              "      <th>crim</th>\n",
              "      <th>zn</th>\n",
              "      <th>indus</th>\n",
              "      <th>chas</th>\n",
              "      <th>nox</th>\n",
              "      <th>rm</th>\n",
              "      <th>age</th>\n",
              "      <th>dis</th>\n",
              "      <th>rad</th>\n",
              "      <th>tax</th>\n",
              "      <th>ptratio</th>\n",
              "      <th>black</th>\n",
              "      <th>lstat</th>\n",
              "    </tr>\n",
              "  </thead>\n",
              "  <tbody>\n",
              "    <tr>\n",
              "      <th>min</th>\n",
              "      <td>0.00632</td>\n",
              "      <td>0.0</td>\n",
              "      <td>0.46</td>\n",
              "      <td>0.0</td>\n",
              "      <td>0.385</td>\n",
              "      <td>3.561</td>\n",
              "      <td>2.9</td>\n",
              "      <td>1.1296</td>\n",
              "      <td>1.0</td>\n",
              "      <td>187.0</td>\n",
              "      <td>12.6</td>\n",
              "      <td>0.32</td>\n",
              "      <td>1.73</td>\n",
              "    </tr>\n",
              "    <tr>\n",
              "      <th>max</th>\n",
              "      <td>88.97620</td>\n",
              "      <td>100.0</td>\n",
              "      <td>27.74</td>\n",
              "      <td>1.0</td>\n",
              "      <td>0.871</td>\n",
              "      <td>8.780</td>\n",
              "      <td>100.0</td>\n",
              "      <td>12.1265</td>\n",
              "      <td>24.0</td>\n",
              "      <td>711.0</td>\n",
              "      <td>22.0</td>\n",
              "      <td>396.90</td>\n",
              "      <td>37.97</td>\n",
              "    </tr>\n",
              "  </tbody>\n",
              "</table>\n",
              "</div>"
            ],
            "text/plain": [
              "         crim     zn  indus  chas    nox  ...   rad    tax  ptratio   black  lstat\n",
              "min   0.00632    0.0   0.46   0.0  0.385  ...   1.0  187.0     12.6    0.32   1.73\n",
              "max  88.97620  100.0  27.74   1.0  0.871  ...  24.0  711.0     22.0  396.90  37.97\n",
              "\n",
              "[2 rows x 13 columns]"
            ]
          },
          "metadata": {
            "tags": []
          },
          "execution_count": 15
        }
      ]
    },
    {
      "cell_type": "markdown",
      "metadata": {
        "id": "KhUec_DMdpaA",
        "colab_type": "text"
      },
      "source": [
        "Now, we are going to generate 5 random samples, such that their values lies in the [min, max] range of respective features."
      ]
    },
    {
      "cell_type": "code",
      "metadata": {
        "id": "z7NJMJ5gdlYC",
        "colab_type": "code",
        "outputId": "a647b930-b6b1-431c-91eb-b8de287efa33",
        "colab": {
          "base_uri": "https://localhost:8080/",
          "height": 357
        }
      },
      "source": [
        "# Set a random seed\n",
        "np.random.seed(1234)\n",
        "\n",
        "# Create 5 random values \n",
        "rands = np.random.rand(5, 1)\n",
        "rands\n",
        "\n",
        "# Get the 'min' and 'max' rows as numpy array\n",
        "min_array = np.array(extremes.loc[['min'], :])\n",
        "max_array = np.array(extremes.loc[['max'], :])\n",
        "\n",
        "# Find the difference(range) of 'max' and 'min'\n",
        "range = max_array - min_array\n",
        "\n",
        "# Generate 5 samples with 'rands' value\n",
        "outliers_X = (rands * range) + min_array\n",
        "outliers_X"
      ],
      "execution_count": 16,
      "outputs": [
        {
          "output_type": "execute_result",
          "data": {
            "text/plain": [
              "array([[1.70457825e+01, 1.91519450e+01, 5.68465061e+00, 1.91519450e-01,\n",
              "        4.78078453e-01, 4.56054001e+00, 2.14965386e+01, 3.23572024e+00,\n",
              "        5.40494736e+00, 2.87356192e+02, 1.44002828e+01, 7.62727836e+01,\n",
              "        8.67066488e+00],\n",
              "       [5.53552627e+01, 6.22108771e+01, 1.74311273e+01, 6.22108771e-01,\n",
              "        6.87344863e-01, 6.80778568e+00, 6.33067617e+01, 7.97086794e+00,\n",
              "        1.53085017e+01, 5.12984996e+02, 1.84478224e+01, 2.47035896e+02,\n",
              "        2.42752219e+01],\n",
              "       [3.89509044e+01, 4.37727739e+01, 1.24012127e+01, 4.37727739e-01,\n",
              "        5.97735681e-01, 5.84550107e+00, 4.54033635e+01, 5.94324817e+00,\n",
              "        1.10677380e+01, 4.16369335e+02, 1.67146407e+01, 1.73914067e+02,\n",
              "        1.75932533e+01],\n",
              "       [6.98795789e+01, 7.85358584e+01, 2.18845822e+01, 7.85358584e-01,\n",
              "        7.66684272e-01, 7.65978645e+00, 7.91583185e+01, 9.76610981e+00,\n",
              "        1.90632474e+01, 5.98527898e+02, 1.99823707e+01, 3.11777507e+02,\n",
              "        3.01913951e+01],\n",
              "       [6.94006741e+01, 7.79975808e+01, 2.17377400e+01, 7.79975808e-01,\n",
              "        7.64068243e-01, 7.63169374e+00, 7.86356510e+01, 9.70691596e+00,\n",
              "        1.89394436e+01, 5.95707323e+02, 1.99317726e+01, 3.09642806e+02,\n",
              "        2.99963233e+01]])"
            ]
          },
          "metadata": {
            "tags": []
          },
          "execution_count": 16
        }
      ]
    },
    {
      "cell_type": "code",
      "metadata": {
        "id": "vxIu0oSHdzhY",
        "colab_type": "code",
        "colab": {}
      },
      "source": [
        "# We will also create some hard coded outliers\n",
        "# for 'medv', i.e. our target\n",
        "medv_outliers = np.array([0, 0, 600, 700, 600])"
      ],
      "execution_count": 0,
      "outputs": []
    },
    {
      "cell_type": "code",
      "metadata": {
        "id": "7oVAF_Xld4zT",
        "colab_type": "code",
        "outputId": "aded951f-6964-4476-8090-2350e9fe06c3",
        "colab": {
          "base_uri": "https://localhost:8080/",
          "height": 515
        }
      },
      "source": [
        "# Change the type of 'chas', 'rad' and 'tax' to rounded of Integers\n",
        "outliers_X[:, [3, 8, 9]] = np.int64(np.round(outliers_X[:, [3, 8, 9]]))\n",
        "\n",
        "# Finally concatenate our existing 'train_X' and\n",
        "# 'train_y' with these outliers\n",
        "train_X = np.append(train_X, outliers_X, axis = 0)\n",
        "train_y = np.append(train_y, medv_outliers, axis = 0)\n",
        "\n",
        "# Plot a histogram of 'medv' in train_y\n",
        "fig = plt.figure(figsize=(13,7))\n",
        "plt.hist(train_y, bins=50, range = (-10, 800))\n",
        "fig.suptitle('medv Count', fontsize = 20)\n",
        "plt.xlabel('medv', fontsize = 16)\n",
        "plt.ylabel('count', fontsize = 16)"
      ],
      "execution_count": 18,
      "outputs": [
        {
          "output_type": "execute_result",
          "data": {
            "text/plain": [
              "Text(0, 0.5, 'count')"
            ]
          },
          "metadata": {
            "tags": []
          },
          "execution_count": 18
        },
        {
          "output_type": "display_data",
          "data": {
            "image/png": "[encoded data removed]",
            "text/plain": [
              "<Figure size 936x504 with 1 Axes>"
            ]
          },
          "metadata": {
            "tags": []
          }
        }
      ]
    },
    {
      "cell_type": "markdown",
      "metadata": {
        "id": "j03UxsMNeK1w",
        "colab_type": "text"
      },
      "source": [
        "You can see there are some clear outliers at 600, 700 and even one or two ‘medv’ values are 0.\n",
        "Since, our outliers are in place now, we will once again fit the GradientBoostingRegressor with L1 and L2 Loss functions to see the contrast in their performances with outliers."
      ]
    },
    {
      "cell_type": "code",
      "metadata": {
        "id": "LWIol8JPeL2m",
        "colab_type": "code",
        "outputId": "7db0bacf-9a7c-4a59-e72d-091d707a5a6e",
        "colab": {
          "base_uri": "https://localhost:8080/",
          "height": 34
        }
      },
      "source": [
        "# GradientBoostingRegressor with L1 loss function\n",
        "np.random.seed(9876)\n",
        "\n",
        "mod = GradientBoostingRegressor(loss='lad')\n",
        "\n",
        "fit = mod.fit(train_X, train_y)\n",
        "predict = fit.predict(test_X)\n",
        "\n",
        "# Root Mean Squared Error\n",
        "print (\"RMSE -> %f\" % rmse(predict, test_y))"
      ],
      "execution_count": 19,
      "outputs": [
        {
          "output_type": "stream",
          "text": [
            "RMSE -> 3.659125\n"
          ],
          "name": "stdout"
        }
      ]
    },
    {
      "cell_type": "code",
      "metadata": {
        "id": "Ob1q6BRueTIQ",
        "colab_type": "code",
        "outputId": "bf325f45-1964-44aa-97d2-27f0fdf4a61b",
        "colab": {
          "base_uri": "https://localhost:8080/",
          "height": 34
        }
      },
      "source": [
        "# GradientBoostingRegressor with L2 loss function\n",
        "mod = GradientBoostingRegressor(loss='ls')\n",
        "\n",
        "fit = mod.fit(train_X, train_y)\n",
        "predict = fit.predict(test_X)\n",
        "\n",
        "# Root Mean Squared Error\n",
        "print (\"RMSE -> %f\" % rmse(predict, test_y))"
      ],
      "execution_count": 20,
      "outputs": [
        {
          "output_type": "stream",
          "text": [
            "RMSE -> 9.779870\n"
          ],
          "name": "stdout"
        }
      ]
    },
    {
      "cell_type": "markdown",
      "metadata": {
        "id": "pJnjGuYlesr0",
        "colab_type": "text"
      },
      "source": [
        "On the other hand, we get a RMSE value of 9.806251, with L2 loss function and existing outliers.\n",
        "\n",
        "With outliers in the dataset, a L2(Loss function) tries to adjust the model according to these outliers on the expense of other good-samples, since the squared-error is going to be huge for these outliers(for error > 1). On the other hand L1(Least absolute deviation) is quite resistant to outliers.\n",
        "As a result, L2 loss function may result in huge deviations in some of the samples which results in reduced accuracy.\n",
        "\n",
        "So, if you can ignore the ouliers in your dataset or you need them to be there, then you should be using a L1 loss function, on the other hand if you don’t want undesired outliers in the dataset and would like to use a stable solution then first of all you should try to remove the outliers and then use a L2 loss function. Or performance of a model with a L2 loss function may deteriorate badly due to the presence of outliers in the dataset."
      ]
    }
  ]
}