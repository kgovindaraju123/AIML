{
  "nbformat": 4,
  "nbformat_minor": 0,
  "metadata": {
    "colab": {
      "name": "Mar18KerasMultidimensinal.ipynb",
      "provenance": [],
      "collapsed_sections": [],
      "authorship_tag": "ABX9TyMhKaJdv702lm1+ES6dO5CE",
      "include_colab_link": true
    },
    "kernelspec": {
      "name": "python3",
      "display_name": "Python 3"
    }
  },
  "cells": [
    {
      "cell_type": "markdown",
      "metadata": {
        "id": "view-in-github",
        "colab_type": "text"
      },
      "source": [
        "<a href=\"https://colab.research.google.com/github/kgovindaraju123/AIML/blob/master/Mar18KerasMultidimensinal.ipynb\" target=\"_parent\"><img src=\"https://colab.research.google.com/assets/colab-badge.svg\" alt=\"Open In Colab\"/></a>"
      ]
    },
    {
      "cell_type": "code",
      "metadata": {
        "id": "kJYbu2c8PNIx",
        "colab_type": "code",
        "colab": {}
      },
      "source": [
        "import pandas\n",
        "from keras.models import Sequential\n",
        "from keras.layers import Dense\n",
        "from keras.wrappers.scikit_learn import KerasClassifier\n",
        "from keras.utils import np_utils\n",
        "from sklearn.model_selection import cross_val_score\n",
        "from sklearn.model_selection import KFold\n",
        "from sklearn.preprocessing import LabelEncoder\n",
        "from sklearn.pipeline import Pipeline"
      ],
      "execution_count": 0,
      "outputs": []
    },
    {
      "cell_type": "code",
      "metadata": {
        "id": "RpGxtazeQG8-",
        "colab_type": "code",
        "colab": {}
      },
      "source": [
        "#load dataset\n",
        "dataframe=pandas.read_csv(\"iris.data\",header=None)\n",
        "dataset=dataframe.values"
      ],
      "execution_count": 0,
      "outputs": []
    },
    {
      "cell_type": "code",
      "metadata": {
        "id": "x-rO2d_qQqlT",
        "colab_type": "code",
        "colab": {}
      },
      "source": [
        "X=dataset[:,0:4].astype(float)\n",
        "Y=dataset[:,4]"
      ],
      "execution_count": 0,
      "outputs": []
    },
    {
      "cell_type": "code",
      "metadata": {
        "id": "AlGG2e2uQ70Y",
        "colab_type": "code",
        "colab": {}
      },
      "source": [
        "#encode class values as integers\n",
        "encoder=LabelEncoder()\n",
        "encoder.fit(Y)\n",
        "encoded_Y=encoder.transform(Y)"
      ],
      "execution_count": 0,
      "outputs": []
    },
    {
      "cell_type": "code",
      "metadata": {
        "id": "aChx7IxKSd5p",
        "colab_type": "code",
        "colab": {}
      },
      "source": [
        "# convert integers to dummy variables (one hot encoded)\n",
        "# np.utils.to_categorical is used to convert array of labeled data(from 0 to nb_classes-1) to one hot vector\n",
        "dummy_y=np_utils.to_categorical(encoded_Y)"
      ],
      "execution_count": 0,
      "outputs": []
    },
    {
      "cell_type": "code",
      "metadata": {
        "id": "Pr6QkhU2S2GE",
        "colab_type": "code",
        "colab": {}
      },
      "source": [
        "#define baseline model\n",
        "def baseline_model():\n",
        "  #create model\n",
        "  model=Sequential()\n",
        "  model.add(Dense(8,input_dim=4,activation='relu'))\n",
        "  model.add(Dense(3,activation='softmax'))\n",
        "  #compile model\n",
        "  model.compile(loss='categorical_crossentropy',optimizer='adam',metrics=['accuracy'])\n",
        "  return model"
      ],
      "execution_count": 0,
      "outputs": []
    },
    {
      "cell_type": "code",
      "metadata": {
        "id": "hokgmF3UUIH5",
        "colab_type": "code",
        "colab": {
          "base_uri": "https://localhost:8080/",
          "height": 35
        },
        "outputId": "056a8a0a-f965-426f-dca4-8fce54aa9846"
      },
      "source": [
        "estimator=KerasClassifier(build_fn=baseline_model,epochs=200,batch_size=5, verbose=0)\n",
        "kfold=KFold(n_splits=10, shuffle=True)\n",
        "results=cross_val_score(estimator,X,dummy_y,cv=kfold)\n",
        "print(\"Baseline: %.2f%% (%.2f%%)\" %(results.mean()*100,results.std()*100))"
      ],
      "execution_count": 28,
      "outputs": [
        {
          "output_type": "stream",
          "text": [
            "Baseline: 96.67% (4.47%)\n"
          ],
          "name": "stdout"
        }
      ]
    }
  ]
}