{
  "nbformat": 4,
  "nbformat_minor": 0,
  "metadata": {
    "colab": {
      "name": "Copy of Keras_Multiclass_iris.ipynb",
      "provenance": [],
      "collapsed_sections": [],
      "include_colab_link": true
    },
    "kernelspec": {
      "name": "python3",
      "display_name": "Python 3"
    }
  },
  "cells": [
    {
      "cell_type": "markdown",
      "metadata": {
        "id": "view-in-github",
        "colab_type": "text"
      },
      "source": [
        "<a href=\"https://colab.research.google.com/github/kgovindaraju123/AIML/blob/master/Copy_of_Keras_Multiclass_iris.ipynb\" target=\"_parent\"><img src=\"https://colab.research.google.com/assets/colab-badge.svg\" alt=\"Open In Colab\"/></a>"
      ]
    },
    {
      "cell_type": "markdown",
      "metadata": {
        "id": "dTPttmjGopel",
        "colab_type": "text"
      },
      "source": [
        "KERAS MULTICLASS CLASSIFICATION"
      ]
    },
    {
      "cell_type": "markdown",
      "metadata": {
        "id": "E9EfQUMzeF1i",
        "colab_type": "text"
      },
      "source": [
        "Keras has a few requirements:\n",
        "\n",
        "    You have Python 2 or 3 installed and configured.\n",
        "    You have SciPy (including NumPy) installed and configured.\n",
        "    You have Keras and a backend (Theano or TensorFlow) installed and configured.\n"
      ]
    },
    {
      "cell_type": "markdown",
      "metadata": {
        "id": "ixcmTXN9Qvds",
        "colab_type": "text"
      },
      "source": [
        "Keras is a popular library for deep learning in Python, but the focus of the library is deep learning. In fact it strives for minimalism, focusing on only what you need to quickly and simply define and build deep learning models.\n",
        "\n"
      ]
    },
    {
      "cell_type": "markdown",
      "metadata": {
        "id": "nxyUkuivQvC5",
        "colab_type": "text"
      },
      "source": [
        "The scikit-learn library in Python is built upon the SciPy stack for efficient numerical computation. It is a fully featured library for general machine learning and provides many utilities that are useful in the development of deep learning models. Not least:\n",
        "\n",
        "Evaluation of models using resampling methods like k-fold cross validation.    Efficient search and evaluation of model hyper-parameters.\n",
        "\n",
        "The Keras library provides a convenient wrapper for deep learning models to be used as classification or regression estimators in scikit-learn."
      ]
    },
    {
      "cell_type": "markdown",
      "metadata": {
        "id": "VY0eHY8-RoCW",
        "colab_type": "text"
      },
      "source": [
        "Problem Description\n",
        "\n",
        "---\n",
        "we will use the standard machine learning problem called the iris flowers dataset.\n",
        "\n",
        "This dataset is well studied and is a good problem for practicing on neural networks because all of the 4 input variables are numeric and have the same scale in centimeters. Each instance describes the properties of an observed flower measurements and the output variable is specific iris species.\n",
        "\n",
        "This is a multi-class classification problem, meaning that there are more than two classes to be predicted, in fact there are three flower species. This is an important type of problem on which to practice with neural networks because the three class values require specialized handling.\n",
        "\n",
        "The iris flower dataset is a well-studied problem and a such we can expect to achieve a model accuracy in the range of 95% to 97%. This provides a good target to aim for when developing our models.\n"
      ]
    },
    {
      "cell_type": "code",
      "metadata": {
        "id": "7ajjsThuQHKv",
        "colab_type": "code",
        "outputId": "c46f3262-053f-4fc7-cb61-1e964ff2b3f4",
        "colab": {
          "base_uri": "https://localhost:8080/",
          "height": 34
        }
      },
      "source": [
        "import pandas\n",
        "from keras.models import Sequential\n",
        "from keras.layers import Dense\n",
        "from keras.wrappers.scikit_learn import KerasClassifier\n",
        "from keras.utils import  np_utils\n",
        "from sklearn.model_selection import cross_val_score\n",
        "from sklearn.model_selection import KFold\n",
        "from sklearn.preprocessing import LabelEncoder\n",
        "from sklearn.pipeline import Pipeline"
      ],
      "execution_count": 1,
      "outputs": [
        {
          "output_type": "stream",
          "text": [
            "Using TensorFlow backend.\n"
          ],
          "name": "stderr"
        }
      ]
    },
    {
      "cell_type": "markdown",
      "metadata": {
        "id": "qiB5mT_sS97b",
        "colab_type": "text"
      },
      "source": [
        "Data Preparation and Model Evaluation using SKLEARN"
      ]
    },
    {
      "cell_type": "markdown",
      "metadata": {
        "id": "o7Y9MgobUQQo",
        "colab_type": "text"
      },
      "source": [
        "Load the Dataset\n",
        "\n",
        "---\n",
        "The dataset can be loaded directly. Because the output variable contains strings, it is easiest to load the data using pandas. We can then split the attributes (columns) into input variables (X) and output variables (Y).\n"
      ]
    },
    {
      "cell_type": "code",
      "metadata": {
        "id": "rHn6PjbNR6yJ",
        "colab_type": "code",
        "outputId": "50a5ddb5-0730-45f8-88fc-b6bd5d9aa91f",
        "colab": {
          "base_uri": "https://localhost:8080/",
          "height": 34
        }
      },
      "source": [
        "dataframe = pandas.read_csv(\"iris.data\", header=None)\n",
        "dataframe[4].unique()"
      ],
      "execution_count": 2,
      "outputs": [
        {
          "output_type": "execute_result",
          "data": {
            "text/plain": [
              "array(['Iris-setosa', 'Iris-versicolor', 'Iris-virginica'], dtype=object)"
            ]
          },
          "metadata": {
            "tags": []
          },
          "execution_count": 2
        }
      ]
    },
    {
      "cell_type": "code",
      "metadata": {
        "id": "5LlEteQqT7FG",
        "colab_type": "code",
        "colab": {}
      },
      "source": [
        "dataset = dataframe.values\n",
        "X = dataset[:,0:4].astype(float)\n",
        "Y = dataset[:,4]"
      ],
      "execution_count": 0,
      "outputs": []
    },
    {
      "cell_type": "code",
      "metadata": {
        "id": "B81ToLIJTwGq",
        "colab_type": "code",
        "outputId": "52bcf452-08ce-4b72-870e-a48a714100c7",
        "colab": {
          "base_uri": "https://localhost:8080/",
          "height": 34
        }
      },
      "source": [
        "Y.shape"
      ],
      "execution_count": 4,
      "outputs": [
        {
          "output_type": "execute_result",
          "data": {
            "text/plain": [
              "(150,)"
            ]
          },
          "metadata": {
            "tags": []
          },
          "execution_count": 4
        }
      ]
    },
    {
      "cell_type": "markdown",
      "metadata": {
        "id": "EXz8Op9LUXU6",
        "colab_type": "text"
      },
      "source": [
        "Encode the Output Variable\n",
        "\n",
        "---\n",
        "The output variable contains three different string values.\n",
        "\n",
        "When modeling multi-class classification problems using neural networks, it is good practice to reshape the output attribute from a vector that contains values for each class value to be a matrix with a boolean for each class value and whether or not a given instance has that class value or not.\n",
        "\n",
        "This is called one hot encoding or creating dummy variables from a categorical variable.\n",
        "\n",
        "For example, in this problem three class values are Iris-setosa, Iris-versicolor and Iris-virginica. If we had the observations:\n"
      ]
    },
    {
      "cell_type": "markdown",
      "metadata": {
        "id": "HD-TdiqLUhAZ",
        "colab_type": "text"
      },
      "source": [
        "We can turn this into a one-hot encoded binary matrix for each data instance that would look as follows:\n",
        "![image.png](data:image/png;base64,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)"
      ]
    },
    {
      "cell_type": "code",
      "metadata": {
        "id": "GepFDoGXTu3q",
        "colab_type": "code",
        "colab": {}
      },
      "source": [
        "\n",
        "# encode class values as integers\n",
        "encoder = LabelEncoder()\n",
        "encoder.fit(Y)\n",
        "encoded_Y = encoder.transform(Y)"
      ],
      "execution_count": 0,
      "outputs": []
    },
    {
      "cell_type": "code",
      "metadata": {
        "id": "pxBsjZoCTnEg",
        "colab_type": "code",
        "outputId": "60de20cc-c2e5-47c3-91a2-4b81a64d624e",
        "colab": {
          "base_uri": "https://localhost:8080/",
          "height": 35
        }
      },
      "source": [
        "encoded_Y.shape"
      ],
      "execution_count": 0,
      "outputs": [
        {
          "output_type": "execute_result",
          "data": {
            "text/plain": [
              "(150,)"
            ]
          },
          "metadata": {
            "tags": []
          },
          "execution_count": 6
        }
      ]
    },
    {
      "cell_type": "markdown",
      "metadata": {
        "id": "5Sh0Tw_wTh9w",
        "colab_type": "text"
      },
      "source": [
        "np.utils.to_categorical is used to convert array of labeled data(from 0 to nb_classes-1) to one-hot vector. "
      ]
    },
    {
      "cell_type": "code",
      "metadata": {
        "id": "IGtQXUVRSVgF",
        "colab_type": "code",
        "colab": {}
      },
      "source": [
        "# convert integers to dummy variables (i.e. one hot encoded)\n",
        "dummy_y = np_utils.to_categorical(encoded_Y)"
      ],
      "execution_count": 0,
      "outputs": []
    },
    {
      "cell_type": "code",
      "metadata": {
        "id": "OY6jxcyMTixB",
        "colab_type": "code",
        "outputId": "6f5b1912-e733-4f3b-d7e3-df41372369b8",
        "colab": {
          "base_uri": "https://localhost:8080/",
          "height": 35
        }
      },
      "source": [
        "dummy_y.shape"
      ],
      "execution_count": 0,
      "outputs": [
        {
          "output_type": "execute_result",
          "data": {
            "text/plain": [
              "(150, 3)"
            ]
          },
          "metadata": {
            "tags": []
          },
          "execution_count": 8
        }
      ]
    },
    {
      "cell_type": "markdown",
      "metadata": {
        "id": "DTxheiO-VFn6",
        "colab_type": "text"
      },
      "source": [
        "Define the Neural Network Model:\n",
        "The Keras library provides wrapper classes to allow you to use neural network models developed with Keras in scikit-learn.\n",
        "\n",
        "There is a KerasClassifier class in Keras that can be used as an Estimator in scikit-learn, the base type of model in the library. The KerasClassifier takes the name of a function as an argument. This function must return the constructed neural network model, ready for training.\n",
        "\n",
        "Below is a function that will create a baseline neural network for the iris classification problem. It creates a simple fully connected network with one hidden layer that contains 8 neurons.\n",
        "\n",
        "The hidden layer uses a rectifier activation function which is a good practice. Because we used a one-hot encoding for our iris dataset, the output layer must create 3 output values, one for each class. The output value with the largest value will be taken as the class predicted by the model."
      ]
    },
    {
      "cell_type": "markdown",
      "metadata": {
        "id": "VIPoNyXZWK_8",
        "colab_type": "text"
      },
      "source": [
        "The network topology of this simple one-layer neural network can be summarized as:\n",
        "\n",
        " \t\n",
        "4 inputs -> [8 hidden nodes] -> 3 outputs\n",
        "---\n",
        "\n"
      ]
    },
    {
      "cell_type": "markdown",
      "metadata": {
        "id": "EbZp1bDHWblb",
        "colab_type": "text"
      },
      "source": [
        "Note that we use a “softmax” activation function in the output layer. This is to ensure the output values are in the range of 0 and 1 and may be used as predicted probabilities.\n",
        "\n",
        "Finally, the network uses the efficient Adam gradient descent optimization algorithm with a logarithmic loss function, which is called “categorical_crossentropy” in Keras."
      ]
    },
    {
      "cell_type": "code",
      "metadata": {
        "id": "-tlVlragTCLq",
        "colab_type": "code",
        "colab": {}
      },
      "source": [
        "# define baseline model\n",
        "def baseline_model():\n",
        "\t# create model\n",
        "\tmodel = Sequential()\n",
        "\tmodel.add(Dense(8, input_dim=4, activation='relu'))\n",
        "\tmodel.add(Dense(3, activation='softmax'))\n",
        "\t# Compile model\n",
        "\tmodel.compile(loss='categorical_crossentropy', optimizer='adam', metrics=['accuracy'])\n",
        "\treturn model"
      ],
      "execution_count": 0,
      "outputs": []
    },
    {
      "cell_type": "markdown",
      "metadata": {
        "id": "r6IcSSUwXVeO",
        "colab_type": "text"
      },
      "source": [
        "We can now create our KerasClassifier for use in scikit-learn.\n",
        "\n",
        "We can also pass arguments in the construction of the KerasClassifier class that will be passed on to the fit() function internally used to train the neural network. Here, we pass the number of epochs as 200 and batch size as 5 to use when training the model. Debugging is also turned off when training by setting verbose to 0."
      ]
    },
    {
      "cell_type": "markdown",
      "metadata": {
        "id": "buT-gGIIiRYK",
        "colab_type": "text"
      },
      "source": [
        "Evaluate The Model with k-Fold Cross Validation\n",
        "\n",
        "We can now evaluate the neural network model on our training data.\n",
        "\n",
        "The scikit-learn has excellent capability to evaluate models using a suite of techniques. The gold standard for evaluating machine learning models is k-fold cross validation.\n",
        "\n",
        "First we can define the model evaluation procedure. Here, we set the number of folds to be 10 (an excellent default) and to shuffle the data before partitioning it."
      ]
    },
    {
      "cell_type": "markdown",
      "metadata": {
        "id": "LWjo47rFiZHL",
        "colab_type": "text"
      },
      "source": [
        "Keras with Multi-Class Classificatino Example"
      ]
    },
    {
      "cell_type": "code",
      "metadata": {
        "id": "A94Pz8thTCAo",
        "colab_type": "code",
        "outputId": "e60109be-b3ac-4308-83a6-076164a2f5a0",
        "colab": {
          "base_uri": "https://localhost:8080/",
          "height": 125
        }
      },
      "source": [
        "import pandas\n",
        "from keras.models import Sequential\n",
        "from keras.layers import Dense\n",
        "from keras.wrappers.scikit_learn import KerasClassifier\n",
        "from keras.utils import np_utils\n",
        "from sklearn.model_selection import cross_val_score\n",
        "from sklearn.model_selection import KFold\n",
        "from sklearn.preprocessing import LabelEncoder\n",
        "from sklearn.pipeline import Pipeline\n",
        "# load dataset\n",
        "dataframe = pandas.read_csv(\"iris.data\", header=None)\n",
        "dataset = dataframe.values\n",
        "X = dataset[:,0:4].astype(float)\n",
        "Y = dataset[:,4]\n",
        "# encode class values as integers\n",
        "encoder = LabelEncoder()\n",
        "encoder.fit(Y)\n",
        "encoded_Y = encoder.transform(Y)\n",
        "# convert integers to dummy variables (i.e. one hot encoded)\n",
        "dummy_y = np_utils.to_categorical(encoded_Y)\n",
        " \n",
        "# define baseline model\n",
        "def baseline_model():\n",
        "\t# create model\n",
        "\tmodel = Sequential()\n",
        "\tmodel.add(Dense(8, input_dim=4, activation='relu'))\n",
        "\tmodel.add(Dense(3, activation='softmax'))\n",
        "\t# Compile model\n",
        "\tmodel.compile(loss='categorical_crossentropy', optimizer='adam', metrics=['accuracy'])\n",
        "\treturn model\n",
        " \n",
        "estimator = KerasClassifier(build_fn=baseline_model, epochs=200, batch_size=5, verbose=0)\n",
        "kfold = KFold(n_splits=10, shuffle=True)\n",
        "results = cross_val_score(estimator, X, dummy_y, cv=kfold)\n",
        "print(\"Baseline: %.2f%% (%.2f%%)\" % (results.mean()*100, results.std()*100))"
      ],
      "execution_count": 11,
      "outputs": [
        {
          "output_type": "stream",
          "text": [
            "Baseline: nan% (nan%)\n"
          ],
          "name": "stdout"
        },
        {
          "output_type": "stream",
          "text": [
            "/usr/local/lib/python3.6/dist-packages/sklearn/model_selection/_validation.py:536: FitFailedWarning: Estimator fit failed. The score on this train-test partition for these parameters will be set to nan. Details: \n",
            "RuntimeError: It looks like you are trying to use a version of multi-backend Keras that does not support TensorFlow 2.0. We recommend using `tf.keras`, or alternatively, downgrading to TensorFlow 1.14.\n",
            "\n",
            "  FitFailedWarning)\n"
          ],
          "name": "stderr"
        }
      ]
    },
    {
      "cell_type": "code",
      "metadata": {
        "id": "jgVeIoLYTBv9",
        "colab_type": "code",
        "colab": {}
      },
      "source": [
        ""
      ],
      "execution_count": 0,
      "outputs": []
    }
  ]
}