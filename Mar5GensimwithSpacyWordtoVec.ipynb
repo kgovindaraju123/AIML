{
  "nbformat": 4,
  "nbformat_minor": 0,
  "metadata": {
    "colab": {
      "name": "Mar5GensimwithSpacyWordtoVec.ipynb",
      "provenance": [],
      "collapsed_sections": [],
      "authorship_tag": "ABX9TyOK/wpJXGYw9KGHVz6Pkagd",
      "include_colab_link": true
    },
    "kernelspec": {
      "name": "python3",
      "display_name": "Python 3"
    },
    "widgets": {
      "application/vnd.jupyter.widget-state+json": {
        "1e9449805ea84709812aee16591615d2": {
          "model_module": "@jupyter-widgets/controls",
          "model_name": "HBoxModel",
          "state": {
            "_view_name": "HBoxView",
            "_dom_classes": [],
            "_model_name": "HBoxModel",
            "_view_module": "@jupyter-widgets/controls",
            "_model_module_version": "1.5.0",
            "_view_count": null,
            "_view_module_version": "1.5.0",
            "box_style": "",
            "layout": "IPY_MODEL_638651aa2e764030a9daaf1adddc22a8",
            "_model_module": "@jupyter-widgets/controls",
            "children": [
              "IPY_MODEL_5daaf61e542141e5a6ba36f3243b046b",
              "IPY_MODEL_f02cee77bf9e43288fc204da41e52788"
            ]
          }
        },
        "638651aa2e764030a9daaf1adddc22a8": {
          "model_module": "@jupyter-widgets/base",
          "model_name": "LayoutModel",
          "state": {
            "_view_name": "LayoutView",
            "grid_template_rows": null,
            "right": null,
            "justify_content": null,
            "_view_module": "@jupyter-widgets/base",
            "overflow": null,
            "_model_module_version": "1.2.0",
            "_view_count": null,
            "flex_flow": null,
            "width": null,
            "min_width": null,
            "border": null,
            "align_items": null,
            "bottom": null,
            "_model_module": "@jupyter-widgets/base",
            "top": null,
            "grid_column": null,
            "overflow_y": null,
            "overflow_x": null,
            "grid_auto_flow": null,
            "grid_area": null,
            "grid_template_columns": null,
            "flex": null,
            "_model_name": "LayoutModel",
            "justify_items": null,
            "grid_row": null,
            "max_height": null,
            "align_content": null,
            "visibility": null,
            "align_self": null,
            "height": null,
            "min_height": null,
            "padding": null,
            "grid_auto_rows": null,
            "grid_gap": null,
            "max_width": null,
            "order": null,
            "_view_module_version": "1.2.0",
            "grid_template_areas": null,
            "object_position": null,
            "object_fit": null,
            "grid_auto_columns": null,
            "margin": null,
            "display": null,
            "left": null
          }
        },
        "5daaf61e542141e5a6ba36f3243b046b": {
          "model_module": "@jupyter-widgets/controls",
          "model_name": "IntProgressModel",
          "state": {
            "_view_name": "ProgressView",
            "style": "IPY_MODEL_8408d5ff4f1b4eb6a8af3cba1d673383",
            "_dom_classes": [],
            "description": "",
            "_model_name": "IntProgressModel",
            "bar_style": "success",
            "max": 5000,
            "_view_module": "@jupyter-widgets/controls",
            "_model_module_version": "1.5.0",
            "value": 5000,
            "_view_count": null,
            "_view_module_version": "1.5.0",
            "orientation": "horizontal",
            "min": 0,
            "description_tooltip": null,
            "_model_module": "@jupyter-widgets/controls",
            "layout": "IPY_MODEL_32c4228d33ff40aebc582a251fda672a"
          }
        },
        "f02cee77bf9e43288fc204da41e52788": {
          "model_module": "@jupyter-widgets/controls",
          "model_name": "HTMLModel",
          "state": {
            "_view_name": "HTMLView",
            "style": "IPY_MODEL_e376bfeba7824114a969455c06c2bd61",
            "_dom_classes": [],
            "description": "",
            "_model_name": "HTMLModel",
            "placeholder": "​",
            "_view_module": "@jupyter-widgets/controls",
            "_model_module_version": "1.5.0",
            "value": "100% 5000/5000 [02:03&lt;00:00, 39.92it/s]",
            "_view_count": null,
            "_view_module_version": "1.5.0",
            "description_tooltip": null,
            "_model_module": "@jupyter-widgets/controls",
            "layout": "IPY_MODEL_aa2b10425f7a4ac58f5518b82716ec84"
          }
        },
        "8408d5ff4f1b4eb6a8af3cba1d673383": {
          "model_module": "@jupyter-widgets/controls",
          "model_name": "ProgressStyleModel",
          "state": {
            "_view_name": "StyleView",
            "_model_name": "ProgressStyleModel",
            "description_width": "",
            "_view_module": "@jupyter-widgets/base",
            "_model_module_version": "1.5.0",
            "_view_count": null,
            "_view_module_version": "1.2.0",
            "bar_color": null,
            "_model_module": "@jupyter-widgets/controls"
          }
        },
        "32c4228d33ff40aebc582a251fda672a": {
          "model_module": "@jupyter-widgets/base",
          "model_name": "LayoutModel",
          "state": {
            "_view_name": "LayoutView",
            "grid_template_rows": null,
            "right": null,
            "justify_content": null,
            "_view_module": "@jupyter-widgets/base",
            "overflow": null,
            "_model_module_version": "1.2.0",
            "_view_count": null,
            "flex_flow": null,
            "width": null,
            "min_width": null,
            "border": null,
            "align_items": null,
            "bottom": null,
            "_model_module": "@jupyter-widgets/base",
            "top": null,
            "grid_column": null,
            "overflow_y": null,
            "overflow_x": null,
            "grid_auto_flow": null,
            "grid_area": null,
            "grid_template_columns": null,
            "flex": null,
            "_model_name": "LayoutModel",
            "justify_items": null,
            "grid_row": null,
            "max_height": null,
            "align_content": null,
            "visibility": null,
            "align_self": null,
            "height": null,
            "min_height": null,
            "padding": null,
            "grid_auto_rows": null,
            "grid_gap": null,
            "max_width": null,
            "order": null,
            "_view_module_version": "1.2.0",
            "grid_template_areas": null,
            "object_position": null,
            "object_fit": null,
            "grid_auto_columns": null,
            "margin": null,
            "display": null,
            "left": null
          }
        },
        "e376bfeba7824114a969455c06c2bd61": {
          "model_module": "@jupyter-widgets/controls",
          "model_name": "DescriptionStyleModel",
          "state": {
            "_view_name": "StyleView",
            "_model_name": "DescriptionStyleModel",
            "description_width": "",
            "_view_module": "@jupyter-widgets/base",
            "_model_module_version": "1.5.0",
            "_view_count": null,
            "_view_module_version": "1.2.0",
            "_model_module": "@jupyter-widgets/controls"
          }
        },
        "aa2b10425f7a4ac58f5518b82716ec84": {
          "model_module": "@jupyter-widgets/base",
          "model_name": "LayoutModel",
          "state": {
            "_view_name": "LayoutView",
            "grid_template_rows": null,
            "right": null,
            "justify_content": null,
            "_view_module": "@jupyter-widgets/base",
            "overflow": null,
            "_model_module_version": "1.2.0",
            "_view_count": null,
            "flex_flow": null,
            "width": null,
            "min_width": null,
            "border": null,
            "align_items": null,
            "bottom": null,
            "_model_module": "@jupyter-widgets/base",
            "top": null,
            "grid_column": null,
            "overflow_y": null,
            "overflow_x": null,
            "grid_auto_flow": null,
            "grid_area": null,
            "grid_template_columns": null,
            "flex": null,
            "_model_name": "LayoutModel",
            "justify_items": null,
            "grid_row": null,
            "max_height": null,
            "align_content": null,
            "visibility": null,
            "align_self": null,
            "height": null,
            "min_height": null,
            "padding": null,
            "grid_auto_rows": null,
            "grid_gap": null,
            "max_width": null,
            "order": null,
            "_view_module_version": "1.2.0",
            "grid_template_areas": null,
            "object_position": null,
            "object_fit": null,
            "grid_auto_columns": null,
            "margin": null,
            "display": null,
            "left": null
          }
        }
      }
    }
  },
  "cells": [
    {
      "cell_type": "markdown",
      "metadata": {
        "id": "view-in-github",
        "colab_type": "text"
      },
      "source": [
        "<a href=\"https://colab.research.google.com/github/kgovindaraju123/AIML/blob/master/Mar5GensimwithSpacyWordtoVec.ipynb\" target=\"_parent\"><img src=\"https://colab.research.google.com/assets/colab-badge.svg\" alt=\"Open In Colab\"/></a>"
      ]
    },
    {
      "cell_type": "code",
      "metadata": {
        "id": "k_dYdW2BCEK_",
        "colab_type": "code",
        "colab": {}
      },
      "source": [
        "!python -m spacy download en_core_web_lg\n",
        "import numpy as np"
      ],
      "execution_count": 0,
      "outputs": []
    },
    {
      "cell_type": "code",
      "metadata": {
        "id": "_VfLr5mPChct",
        "colab_type": "code",
        "colab": {}
      },
      "source": [
        "import pandas as pd\n",
        "import gensim\n",
        "import gensim.corpora as corpora\n",
        "from gensim.utils import simple_preprocess\n",
        "from gensim.models import CoherenceModel\n",
        "\n",
        "import spacy\n",
        "from spacy.lemmatizer import Lemmatizer\n",
        "from spacy.lang.en.stop_words import STOP_WORDS\n",
        "import en_core_web_lg\n",
        "\n",
        "from tqdm import tqdm_notebook as tqdm\n",
        "from pprint import pprint #pretty printer"
      ],
      "execution_count": 0,
      "outputs": []
    },
    {
      "cell_type": "code",
      "metadata": {
        "id": "cG73wLUODYIm",
        "colab_type": "code",
        "colab": {
          "base_uri": "https://localhost:8080/",
          "height": 34
        },
        "outputId": "b620b4db-44d9-43d8-b46c-9881fdf2a33c"
      },
      "source": [
        "nytimes=pd.read_csv('nytimes.csv')\n",
        "nytimes.shape\n",
        "nytimes.columns\n"
      ],
      "execution_count": 9,
      "outputs": [
        {
          "output_type": "execute_result",
          "data": {
            "text/plain": [
              "Index(['lead_paragraph', 'datetime', '_id', 'web_url'], dtype='object')"
            ]
          },
          "metadata": {
            "tags": []
          },
          "execution_count": 9
        }
      ]
    },
    {
      "cell_type": "code",
      "metadata": {
        "id": "6OR1y6gvEPzR",
        "colab_type": "code",
        "colab": {}
      },
      "source": [
        "newest_doc=nytimes['lead_paragraph']"
      ],
      "execution_count": 0,
      "outputs": []
    },
    {
      "cell_type": "code",
      "metadata": {
        "id": "Ofjwvl1gEb2D",
        "colab_type": "code",
        "colab": {}
      },
      "source": [
        "nlp=spacy.load(\"en\")\n",
        "#My list of stop words\n",
        "stop_list = [\"Mrs.\",\"Ms.\",\"say\",\"WASHINGTON\",\"'s\",\"Mr.\",]\n",
        "\n",
        "#Updates SpaCy's default stop_words list with my additional words\n",
        "nlp.Defaults.stop_words.update(stop_list)\n",
        "\n",
        "#Iterates over the words in the stop words list and resets the \"is_stop\" flag\n",
        "for word in STOP_WORDS:\n",
        "    lexeme=nlp.vocab[word]\n",
        "    lexeme.is_stop=True\n",
        "   "
      ],
      "execution_count": 0,
      "outputs": []
    },
    {
      "cell_type": "code",
      "metadata": {
        "id": "vQxNtE0NFvhc",
        "colab_type": "code",
        "colab": {}
      },
      "source": [
        "def lemmatizer(doc):\n",
        "  doc=[token.lemma_ for token in doc if token.lemma_ != '-PRON-']\n",
        "  doc=u' '.join(doc)\n",
        "  return nlp.make_doc(doc)\n",
        "\n",
        "def remove_stopwords(doc):\n",
        "  doc=[token.text for token in doc if token.is_stop !=True and token.is_punct !=True]\n",
        "  return doc\n",
        "nlp.add_pipe(lemmatizer,name='lemmatizer',after='ner')\n",
        "nlp.add_pipe(remove_stopwords,name=\"stopwords\",last=True)"
      ],
      "execution_count": 0,
      "outputs": []
    },
    {
      "cell_type": "code",
      "metadata": {
        "id": "TxZ_YLn3HKZ6",
        "colab_type": "code",
        "colab": {
          "base_uri": "https://localhost:8080/",
          "height": 66,
          "referenced_widgets": [
            "1e9449805ea84709812aee16591615d2",
            "638651aa2e764030a9daaf1adddc22a8",
            "5daaf61e542141e5a6ba36f3243b046b",
            "f02cee77bf9e43288fc204da41e52788",
            "8408d5ff4f1b4eb6a8af3cba1d673383",
            "32c4228d33ff40aebc582a251fda672a",
            "e376bfeba7824114a969455c06c2bd61",
            "aa2b10425f7a4ac58f5518b82716ec84"
          ]
        },
        "outputId": "282c68d4-db29-401b-e556-4ec3da202b53"
      },
      "source": [
        "doc_list=[]\n",
        "for doc in tqdm(newest_doc):\n",
        "  pr=nlp(doc)\n",
        "  doc_list.append(pr)"
      ],
      "execution_count": 16,
      "outputs": [
        {
          "output_type": "display_data",
          "data": {
            "application/vnd.jupyter.widget-view+json": {
              "model_id": "1e9449805ea84709812aee16591615d2",
              "version_minor": 0,
              "version_major": 2
            },
            "text/plain": [
              "HBox(children=(IntProgress(value=0, max=5000), HTML(value='')))"
            ]
          },
          "metadata": {
            "tags": []
          }
        },
        {
          "output_type": "stream",
          "text": [
            "\n"
          ],
          "name": "stdout"
        }
      ]
    },
    {
      "cell_type": "code",
      "metadata": {
        "id": "0rT1t4D0IGEU",
        "colab_type": "code",
        "colab": {}
      },
      "source": [
        "doc_list"
      ],
      "execution_count": 0,
      "outputs": []
    },
    {
      "cell_type": "code",
      "metadata": {
        "id": "TCz5H-LsLnxo",
        "colab_type": "code",
        "colab": {}
      },
      "source": [
        "words=corpora.Dictionary(doc_list)\n",
        "corpus=[words.doc2bow(doc) for doc in doc_list]\n"
      ],
      "execution_count": 0,
      "outputs": []
    },
    {
      "cell_type": "code",
      "metadata": {
        "id": "KLBJD2HyMMVi",
        "colab_type": "code",
        "colab": {}
      },
      "source": [
        "#LDA Latent Dirichlet Allocation Model\n",
        "lda_model = gensim.models.ldamodel.LdaModel(corpus=corpus,id2word=words,num_topics=10,random_state=2,update_every=1,passes=10,alpha='auto',per_word_topics=True)\n"
      ],
      "execution_count": 0,
      "outputs": []
    },
    {
      "cell_type": "code",
      "metadata": {
        "id": "swVzfKkfNnbz",
        "colab_type": "code",
        "colab": {
          "base_uri": "https://localhost:8080/",
          "height": 680
        },
        "outputId": "5b21d1b3-c977-4aa1-907b-f568bebce79c"
      },
      "source": [
        "pprint(lda_model.print_topics(num_words=10))"
      ],
      "execution_count": 26,
      "outputs": [
        {
          "output_type": "stream",
          "text": [
            "[(0,\n",
            "  '0.010*\"american\" + 0.010*\"world\" + 0.009*\"United\" + 0.009*\"States\" + '\n",
            "  '0.008*\"economic\" + 0.008*\"year\" + 0.007*\"country\" + 0.007*\"America\" + '\n",
            "  '0.006*\"business\" + 0.006*\"economy\"'),\n",
            " (1,\n",
            "  '0.020*\"President\" + 0.012*\"tax\" + 0.012*\"economic\" + 0.010*\"Reagan\" + '\n",
            "  '0.010*\"cut\" + 0.009*\"House\" + 0.009*\"Bush\" + 0.008*\"Congress\" + '\n",
            "  '0.008*\"budget\" + 0.007*\"Obama\"'),\n",
            " (2,\n",
            "  '0.019*\"market\" + 0.013*\"financial\" + 0.011*\"bank\" + 0.010*\"Street\" + '\n",
            "  '0.010*\"company\" + 0.010*\"Wall\" + 0.009*\"stock\" + 0.007*\"investor\" + '\n",
            "  '0.006*\"crisis\" + 0.006*\"year\"'),\n",
            " (3,\n",
            "  '0.032*\"rate\" + 0.023*\"Federal\" + 0.020*\"interest\" + 0.019*\"Reserve\" + '\n",
            "  '0.012*\"market\" + 0.011*\"week\" + 0.011*\"Fed\" + 0.011*\"economy\" + '\n",
            "  '0.010*\"inflation\" + 0.010*\"price\"'),\n",
            " (4,\n",
            "  '0.007*\"like\" + 0.006*\"man\" + 0.006*\"people\" + 0.005*\"day\" + 0.005*\"woman\" + '\n",
            "  '0.005*\"New\" + 0.005*\"come\" + 0.005*\"life\" + 0.004*\"city\" + 0.004*\"know\"'),\n",
            " (5,\n",
            "  '0.010*\"worker\" + 0.007*\"people\" + 0.006*\"company\" + 0.006*\"year\" + '\n",
            "  '0.006*\"industry\" + 0.006*\"home\" + 0.006*\"sale\" + 0.006*\"work\" + '\n",
            "  '0.005*\"labor\" + 0.005*\"job\"'),\n",
            " (6,\n",
            "  '0.009*\"John\" + 0.009*\"New\" + 0.008*\"Senator\" + 0.008*\"campaign\" + '\n",
            "  '0.008*\"Bush\" + 0.008*\"voter\" + 0.007*\"McCain\" + 0.006*\"presidential\" + '\n",
            "  '0.006*\"York\" + 0.005*\"candidate\"'),\n",
            " (7,\n",
            "  '0.046*\"percent\" + 0.026*\"report\" + 0.021*\"month\" + 0.019*\"rise\" + '\n",
            "  '0.015*\"year\" + 0.014*\"Department\" + 0.013*\"increase\" + 0.013*\"today\" + '\n",
            "  '0.011*\"decline\" + 0.011*\"consumer\"'),\n",
            " (8,\n",
            "  '0.060*\"$\" + 0.033*\"billion\" + 0.023*\"year\" + 0.016*\"price\" + '\n",
            "  '0.016*\"percent\" + 0.010*\"rate\" + 0.009*\"million\" + 0.009*\"annual\" + '\n",
            "  '0.007*\"Price\" + 0.007*\"cost\"'),\n",
            " (9,\n",
            "  '0.021*\"economy\" + 0.015*\"States\" + 0.015*\"United\" + 0.014*\"economic\" + '\n",
            "  '0.014*\"job\" + 0.013*\"year\" + 0.012*\"recession\" + 0.011*\"growth\" + '\n",
            "  '0.010*\"economist\" + 0.009*\"trade\"')]\n"
          ],
          "name": "stdout"
        }
      ]
    }
  ]
}