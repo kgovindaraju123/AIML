{
  "nbformat": 4,
  "nbformat_minor": 0,
  "metadata": {
    "colab": {
      "name": "NLTKTokenizer.ipynb",
      "provenance": [],
      "collapsed_sections": [],
      "authorship_tag": "ABX9TyO8tja3vb/S3xkN9ZxfvqXY",
      "include_colab_link": true
    },
    "kernelspec": {
      "name": "python3",
      "display_name": "Python 3"
    }
  },
  "cells": [
    {
      "cell_type": "markdown",
      "metadata": {
        "id": "view-in-github",
        "colab_type": "text"
      },
      "source": [
        "<a href=\"https://colab.research.google.com/github/kgovindaraju123/AIML/blob/master/NLTKTokenizer.ipynb\" target=\"_parent\"><img src=\"https://colab.research.google.com/assets/colab-badge.svg\" alt=\"Open In Colab\"/></a>"
      ]
    },
    {
      "cell_type": "code",
      "metadata": {
        "id": "FWoZKddmrW9a",
        "colab_type": "code",
        "colab": {
          "base_uri": "https://localhost:8080/",
          "height": 170
        },
        "outputId": "f8573d14-7f8d-4d50-8b5f-7634385baf5c"
      },
      "source": [
        "import nltk\n",
        "nltk.download('punkt')\n",
        "nltk.download('stopwords')\n",
        "nltk.download('wordnet') #www.wordnet.com princeton university\n",
        "nltk.download('averaged_perceptron_tagger')\n",
        "import seaborn as sns\n",
        "from nltk.stem import PorterStemmer\n",
        "from nltk.stem import WordNetLemmatizer"
      ],
      "execution_count": 40,
      "outputs": [
        {
          "output_type": "stream",
          "text": [
            "[nltk_data] Downloading package punkt to /root/nltk_data...\n",
            "[nltk_data]   Package punkt is already up-to-date!\n",
            "[nltk_data] Downloading package stopwords to /root/nltk_data...\n",
            "[nltk_data]   Package stopwords is already up-to-date!\n",
            "[nltk_data] Downloading package wordnet to /root/nltk_data...\n",
            "[nltk_data]   Package wordnet is already up-to-date!\n",
            "[nltk_data] Downloading package averaged_perceptron_tagger to\n",
            "[nltk_data]     /root/nltk_data...\n",
            "[nltk_data]   Unzipping taggers/averaged_perceptron_tagger.zip.\n"
          ],
          "name": "stdout"
        }
      ]
    },
    {
      "cell_type": "code",
      "metadata": {
        "id": "NjEtJhHor8u8",
        "colab_type": "code",
        "colab": {
          "base_uri": "https://localhost:8080/",
          "height": 34
        },
        "outputId": "15ed5375-27da-4c4c-965d-6e8eea78ad1c"
      },
      "source": [
        "from nltk.tokenize import word_tokenize\n",
        "text = \"Hi hello how you doing\"\n",
        "print(word_tokenize(text))"
      ],
      "execution_count": 22,
      "outputs": [
        {
          "output_type": "stream",
          "text": [
            "['Hi', 'hello', 'how', 'you', 'doing']\n"
          ],
          "name": "stdout"
        }
      ]
    },
    {
      "cell_type": "code",
      "metadata": {
        "id": "WqAfuevOr8Yy",
        "colab_type": "code",
        "colab": {
          "base_uri": "https://localhost:8080/",
          "height": 34
        },
        "outputId": "4ddfb5b4-f1e0-4aa5-919e-8068246c55b3"
      },
      "source": [
        "from nltk.tokenize import sent_tokenize\n",
        "text = \"Oh! My God!, it's a miracle\"\n",
        "print(sent_tokenize(text))"
      ],
      "execution_count": 23,
      "outputs": [
        {
          "output_type": "stream",
          "text": [
            "['Oh!', \"My God!, it's a miracle\"]\n"
          ],
          "name": "stdout"
        }
      ]
    },
    {
      "cell_type": "code",
      "metadata": {
        "id": "yVEXDS5Wr8Uz",
        "colab_type": "code",
        "colab": {
          "base_uri": "https://localhost:8080/",
          "height": 51
        },
        "outputId": "a184c742-a5a6-4eee-9995-ad1c7c63fa0f"
      },
      "source": [
        "story='India is a country with rich natural resources and skilled population. India is a subcontinent with huge population and culture of India is greatly known to the world'\n",
        "tokenized_story=sent_tokenize(story)\n",
        "tokenized_story"
      ],
      "execution_count": 24,
      "outputs": [
        {
          "output_type": "execute_result",
          "data": {
            "text/plain": [
              "['India is a country with rich natural resources and skilled population.',\n",
              " 'India is a subcontinent with huge population and culture of India is greatly known to the world']"
            ]
          },
          "metadata": {
            "tags": []
          },
          "execution_count": 24
        }
      ]
    },
    {
      "cell_type": "code",
      "metadata": {
        "id": "Uo6fOPdIr8Qn",
        "colab_type": "code",
        "colab": {
          "base_uri": "https://localhost:8080/",
          "height": 510
        },
        "outputId": "2951d196-750a-49c6-9765-0883723402fa"
      },
      "source": [
        "tokenized_Word=word_tokenize(story)\n",
        "tokenized_Word"
      ],
      "execution_count": 25,
      "outputs": [
        {
          "output_type": "execute_result",
          "data": {
            "text/plain": [
              "['India',\n",
              " 'is',\n",
              " 'a',\n",
              " 'country',\n",
              " 'with',\n",
              " 'rich',\n",
              " 'natural',\n",
              " 'resources',\n",
              " 'and',\n",
              " 'skilled',\n",
              " 'population',\n",
              " '.',\n",
              " 'India',\n",
              " 'is',\n",
              " 'a',\n",
              " 'subcontinent',\n",
              " 'with',\n",
              " 'huge',\n",
              " 'population',\n",
              " 'and',\n",
              " 'culture',\n",
              " 'of',\n",
              " 'India',\n",
              " 'is',\n",
              " 'greatly',\n",
              " 'known',\n",
              " 'to',\n",
              " 'the',\n",
              " 'world']"
            ]
          },
          "metadata": {
            "tags": []
          },
          "execution_count": 25
        }
      ]
    },
    {
      "cell_type": "code",
      "metadata": {
        "id": "FjlXHI-it-lI",
        "colab_type": "code",
        "colab": {
          "base_uri": "https://localhost:8080/",
          "height": 51
        },
        "outputId": "b47e43d1-2cb9-4aca-f22e-33b33874b9b9"
      },
      "source": [
        "from nltk.probability import FreqDist\n",
        "freq=FreqDist(tokenized_Word)\n",
        "print(freq)\n",
        "freq.most_common(3)"
      ],
      "execution_count": 26,
      "outputs": [
        {
          "output_type": "stream",
          "text": [
            "<FreqDist with 21 samples and 29 outcomes>\n"
          ],
          "name": "stdout"
        },
        {
          "output_type": "execute_result",
          "data": {
            "text/plain": [
              "[('India', 3), ('is', 3), ('a', 2)]"
            ]
          },
          "metadata": {
            "tags": []
          },
          "execution_count": 26
        }
      ]
    },
    {
      "cell_type": "code",
      "metadata": {
        "id": "Js7I35Ott-iF",
        "colab_type": "code",
        "colab": {
          "base_uri": "https://localhost:8080/",
          "height": 335
        },
        "outputId": "073215e0-9300-4024-9f99-e4b1cecb8556"
      },
      "source": [
        "import matplotlib.pyplot as plt\n",
        "freq.plot(30,cumulative=False)\n",
        "plt.show()"
      ],
      "execution_count": 27,
      "outputs": [
        {
          "output_type": "display_data",
          "data": {
            "image/png": "[encoded data removed]",
            "text/plain": [
              "<Figure size 432x288 with 1 Axes>"
            ]
          },
          "metadata": {
            "tags": []
          }
        }
      ]
    },
    {
      "cell_type": "code",
      "metadata": {
        "id": "IoQ6_PSpt-fr",
        "colab_type": "code",
        "colab": {
          "base_uri": "https://localhost:8080/",
          "height": 54
        },
        "outputId": "1e0389a7-a99e-4484-c2db-d9c891003761"
      },
      "source": [
        "from nltk.corpus import stopwords\n",
        "stop_words=set(stopwords.words(\"english\"))\n",
        "print(stop_words)"
      ],
      "execution_count": 29,
      "outputs": [
        {
          "output_type": "stream",
          "text": [
            "{'doing', 'same', 'by', 'd', 'yourselves', 'that', 'can', 'any', 'here', 'him', \"isn't\", 'don', 'very', 'only', 's', \"needn't\", 'until', 'ourselves', \"she's\", 'too', 'should', 'does', 'you', \"should've\", 'have', 'yourself', 'these', 'ma', 'on', 'during', 'theirs', 'a', 'himself', 'be', 'will', 'once', 'not', 'of', 'do', 'i', 'or', 'isn', 'against', 'he', 'between', 'did', 'if', 'hasn', 't', 'each', 'didn', \"mustn't\", 'their', 'off', 'below', 'was', 'has', 'an', 'the', 'with', 'shan', 'needn', \"you'd\", \"you've\", 'had', 'some', 'than', 'been', 'them', 'and', 'other', 'to', 'themselves', 'ours', 'then', 'as', 'down', 'few', 'more', 'hers', 'whom', 'is', 'nor', \"haven't\", 'herself', 'about', 'just', 'she', \"weren't\", 'won', 'all', 'in', 'further', 'own', 'how', 'his', 'hadn', \"won't\", \"shouldn't\", 'why', 'they', \"it's\", 'll', 'mustn', \"shan't\", 'such', 'haven', 'having', \"aren't\", 'couldn', 'myself', \"mightn't\", 'under', \"wasn't\", 'into', 'your', 'this', 'from', \"didn't\", 'for', 'above', 'doesn', 'ain', 'm', 'its', \"wouldn't\", 'which', \"don't\", 'there', \"you're\", 'we', 'are', \"couldn't\", 'me', 'while', 'weren', \"doesn't\", 'who', \"hadn't\", \"hasn't\", 'out', 've', 'after', 'what', 'o', 'because', 'before', 'her', 'y', 'but', 'it', 'our', 'yours', 'wouldn', 'itself', \"you'll\", 'my', 'again', 'were', 'where', 'no', 'at', 'now', 'being', 'am', 'most', 'over', 'when', 'aren', 'mightn', 'through', 'up', \"that'll\", 'both', 'so', 'wasn', 'those', 'shouldn', 're'}\n"
          ],
          "name": "stdout"
        }
      ]
    },
    {
      "cell_type": "code",
      "metadata": {
        "id": "m3hS9Ttit-av",
        "colab_type": "code",
        "colab": {}
      },
      "source": [
        "filter_words =[]\n",
        "for w in tokenized_Word:\n",
        "  if w not in stop_words:\n",
        "    filter_words.append(w)"
      ],
      "execution_count": 0,
      "outputs": []
    },
    {
      "cell_type": "code",
      "metadata": {
        "id": "paq8Um2dwR5E",
        "colab_type": "code",
        "colab": {
          "base_uri": "https://localhost:8080/",
          "height": 71
        },
        "outputId": "1ade332d-4644-47a6-d80c-1d1cbc5c200e"
      },
      "source": [
        "print(\"tokenized Sentence\",tokenized_story)\n",
        "print(\"filtered sentence\",filter_words)"
      ],
      "execution_count": 32,
      "outputs": [
        {
          "output_type": "stream",
          "text": [
            "tokenized Sentence ['India is a country with rich natural resources and skilled population.', 'India is a subcontinent with huge population and culture of India is greatly known to the world']\n",
            "filtered sentence ['India', 'country', 'rich', 'natural', 'resources', 'skilled', 'population', '.', 'India', 'subcontinent', 'huge', 'population', 'culture', 'India', 'greatly', 'known', 'world']\n"
          ],
          "name": "stdout"
        }
      ]
    },
    {
      "cell_type": "code",
      "metadata": {
        "id": "OeyQa7QZwqao",
        "colab_type": "code",
        "colab": {
          "base_uri": "https://localhost:8080/",
          "height": 71
        },
        "outputId": "bc613f0b-a330-4105-c757-7c6ea5921685"
      },
      "source": [
        "#Stemming\n",
        "ps=PorterStemmer()\n",
        "stemword=[]\n",
        "for w in filter_words:\n",
        "  stemword.append(ps.stem(w))\n",
        "print(\"Filtered Sentence:\",filter_words)\n",
        "print(\"stemmed Sentence:\",stemword)"
      ],
      "execution_count": 33,
      "outputs": [
        {
          "output_type": "stream",
          "text": [
            "Filtered Sentence: ['India', 'country', 'rich', 'natural', 'resources', 'skilled', 'population', '.', 'India', 'subcontinent', 'huge', 'population', 'culture', 'India', 'greatly', 'known', 'world']\n",
            "stemmed Sentence: ['india', 'countri', 'rich', 'natur', 'resourc', 'skill', 'popul', '.', 'india', 'subcontin', 'huge', 'popul', 'cultur', 'india', 'greatli', 'known', 'world']\n"
          ],
          "name": "stdout"
        }
      ]
    },
    {
      "cell_type": "code",
      "metadata": {
        "id": "KwF1vOnKxZRu",
        "colab_type": "code",
        "colab": {
          "base_uri": "https://localhost:8080/",
          "height": 51
        },
        "outputId": "d11987a2-399c-4dc2-a3c7-75a101afa60b"
      },
      "source": [
        "#Lemmatizing\n",
        "lemma=WordNetLemmatizer\n",
        "from nltk.stem.porter import PorterStemmer\n",
        "stem=PorterStemmer()\n",
        "word=\"natural\"\n",
        "print(\"Lemmatized Word:\",lemma.lemmatize(word,\"v\"))\n",
        "print(\"Stemmed Word:\",stem.stem(word))"
      ],
      "execution_count": 35,
      "outputs": [
        {
          "output_type": "stream",
          "text": [
            "Lemmatized Word: v\n",
            "Stemmed Word: natur\n"
          ],
          "name": "stdout"
        }
      ]
    },
    {
      "cell_type": "code",
      "metadata": {
        "id": "7ip-wj_qyB_B",
        "colab_type": "code",
        "colab": {
          "base_uri": "https://localhost:8080/",
          "height": 326
        },
        "outputId": "c0a95a4e-1570-4194-97e4-7df1101883d0"
      },
      "source": [
        "rewards = \"India is best cricket team in the world. Virat Kohli is India Team Captain.\"\n",
        "tokens = nltk.word_tokenize(rewards)\n",
        "print(tokens)\n",
        "nltk.pos_tag(tokens)"
      ],
      "execution_count": 41,
      "outputs": [
        {
          "output_type": "stream",
          "text": [
            "['India', 'is', 'best', 'cricket', 'team', 'in', 'the', 'world', '.', 'Virat', 'Kohli', 'is', 'India', 'Team', 'Captain', '.']\n"
          ],
          "name": "stdout"
        },
        {
          "output_type": "execute_result",
          "data": {
            "text/plain": [
              "[('India', 'NNP'),\n",
              " ('is', 'VBZ'),\n",
              " ('best', 'JJS'),\n",
              " ('cricket', 'NN'),\n",
              " ('team', 'NN'),\n",
              " ('in', 'IN'),\n",
              " ('the', 'DT'),\n",
              " ('world', 'NN'),\n",
              " ('.', '.'),\n",
              " ('Virat', 'NNP'),\n",
              " ('Kohli', 'NNP'),\n",
              " ('is', 'VBZ'),\n",
              " ('India', 'NNP'),\n",
              " ('Team', 'NNP'),\n",
              " ('Captain', 'NNP'),\n",
              " ('.', '.')]"
            ]
          },
          "metadata": {
            "tags": []
          },
          "execution_count": 41
        }
      ]
    },
    {
      "cell_type": "code",
      "metadata": {
        "id": "OJi7It4j3alX",
        "colab_type": "code",
        "colab": {
          "base_uri": "https://localhost:8080/",
          "height": 142
        },
        "outputId": "bc4d9b78-94d9-4829-9ce1-19450b6d4ea6"
      },
      "source": [
        "import pandas as pd\n",
        "sdata=pd.read_csv(\"sentiment.tsv\",'\\t')\n",
        "sdata.head(3)"
      ],
      "execution_count": 42,
      "outputs": [
        {
          "output_type": "execute_result",
          "data": {
            "text/html": [
              "<div>\n",
              "<style scoped>\n",
              "    .dataframe tbody tr th:only-of-type {\n",
              "        vertical-align: middle;\n",
              "    }\n",
              "\n",
              "    .dataframe tbody tr th {\n",
              "        vertical-align: top;\n",
              "    }\n",
              "\n",
              "    .dataframe thead th {\n",
              "        text-align: right;\n",
              "    }\n",
              "</style>\n",
              "<table border=\"1\" class=\"dataframe\">\n",
              "  <thead>\n",
              "    <tr style=\"text-align: right;\">\n",
              "      <th></th>\n",
              "      <th>PhraseId</th>\n",
              "      <th>SentenceId</th>\n",
              "      <th>Phrase</th>\n",
              "      <th>Sentiment</th>\n",
              "    </tr>\n",
              "  </thead>\n",
              "  <tbody>\n",
              "    <tr>\n",
              "      <th>0</th>\n",
              "      <td>1</td>\n",
              "      <td>1</td>\n",
              "      <td>A series of escapades demonstrating the adage ...</td>\n",
              "      <td>1</td>\n",
              "    </tr>\n",
              "    <tr>\n",
              "      <th>1</th>\n",
              "      <td>2</td>\n",
              "      <td>1</td>\n",
              "      <td>A series of escapades demonstrating the adage ...</td>\n",
              "      <td>2</td>\n",
              "    </tr>\n",
              "    <tr>\n",
              "      <th>2</th>\n",
              "      <td>3</td>\n",
              "      <td>1</td>\n",
              "      <td>A series</td>\n",
              "      <td>2</td>\n",
              "    </tr>\n",
              "  </tbody>\n",
              "</table>\n",
              "</div>"
            ],
            "text/plain": [
              "   PhraseId  ...  Sentiment\n",
              "0         1  ...          1\n",
              "1         2  ...          2\n",
              "2         3  ...          2\n",
              "\n",
              "[3 rows x 4 columns]"
            ]
          },
          "metadata": {
            "tags": []
          },
          "execution_count": 42
        }
      ]
    },
    {
      "cell_type": "code",
      "metadata": {
        "id": "KGZiyYVZ3q1O",
        "colab_type": "code",
        "colab": {
          "base_uri": "https://localhost:8080/",
          "height": 187
        },
        "outputId": "66d064ba-e8de-4f04-d9f7-730ec1d9f2a8"
      },
      "source": [
        "sdata.info()\n",
        "sdata.columns"
      ],
      "execution_count": 45,
      "outputs": [
        {
          "output_type": "stream",
          "text": [
            "<class 'pandas.core.frame.DataFrame'>\n",
            "RangeIndex: 156060 entries, 0 to 156059\n",
            "Data columns (total 4 columns):\n",
            "PhraseId      156060 non-null int64\n",
            "SentenceId    156060 non-null int64\n",
            "Phrase        156060 non-null object\n",
            "Sentiment     156060 non-null int64\n",
            "dtypes: int64(3), object(1)\n",
            "memory usage: 4.8+ MB\n"
          ],
          "name": "stdout"
        },
        {
          "output_type": "execute_result",
          "data": {
            "text/plain": [
              "Index(['PhraseId', 'SentenceId', 'Phrase', 'Sentiment'], dtype='object')"
            ]
          },
          "metadata": {
            "tags": []
          },
          "execution_count": 45
        }
      ]
    },
    {
      "cell_type": "code",
      "metadata": {
        "id": "ja1XvMTx39jJ",
        "colab_type": "code",
        "colab": {
          "base_uri": "https://localhost:8080/",
          "height": 119
        },
        "outputId": "308a1c38-fecc-488c-835d-5d2c5f5f034d"
      },
      "source": [
        "sdata.Sentiment.value_counts()"
      ],
      "execution_count": 46,
      "outputs": [
        {
          "output_type": "execute_result",
          "data": {
            "text/plain": [
              "2    79582\n",
              "3    32927\n",
              "1    27273\n",
              "4     9206\n",
              "0     7072\n",
              "Name: Sentiment, dtype: int64"
            ]
          },
          "metadata": {
            "tags": []
          },
          "execution_count": 46
        }
      ]
    },
    {
      "cell_type": "code",
      "metadata": {
        "id": "GBlMLxns4C3f",
        "colab_type": "code",
        "colab": {
          "base_uri": "https://localhost:8080/",
          "height": 235
        },
        "outputId": "ee92d7dc-635b-4ae6-a36d-39f2cc81ba7b"
      },
      "source": [
        "Sentiment_count=sdata.groupby('Sentiment').count()\n",
        "Sentiment_count"
      ],
      "execution_count": 47,
      "outputs": [
        {
          "output_type": "execute_result",
          "data": {
            "text/html": [
              "<div>\n",
              "<style scoped>\n",
              "    .dataframe tbody tr th:only-of-type {\n",
              "        vertical-align: middle;\n",
              "    }\n",
              "\n",
              "    .dataframe tbody tr th {\n",
              "        vertical-align: top;\n",
              "    }\n",
              "\n",
              "    .dataframe thead th {\n",
              "        text-align: right;\n",
              "    }\n",
              "</style>\n",
              "<table border=\"1\" class=\"dataframe\">\n",
              "  <thead>\n",
              "    <tr style=\"text-align: right;\">\n",
              "      <th></th>\n",
              "      <th>PhraseId</th>\n",
              "      <th>SentenceId</th>\n",
              "      <th>Phrase</th>\n",
              "    </tr>\n",
              "    <tr>\n",
              "      <th>Sentiment</th>\n",
              "      <th></th>\n",
              "      <th></th>\n",
              "      <th></th>\n",
              "    </tr>\n",
              "  </thead>\n",
              "  <tbody>\n",
              "    <tr>\n",
              "      <th>0</th>\n",
              "      <td>7072</td>\n",
              "      <td>7072</td>\n",
              "      <td>7072</td>\n",
              "    </tr>\n",
              "    <tr>\n",
              "      <th>1</th>\n",
              "      <td>27273</td>\n",
              "      <td>27273</td>\n",
              "      <td>27273</td>\n",
              "    </tr>\n",
              "    <tr>\n",
              "      <th>2</th>\n",
              "      <td>79582</td>\n",
              "      <td>79582</td>\n",
              "      <td>79582</td>\n",
              "    </tr>\n",
              "    <tr>\n",
              "      <th>3</th>\n",
              "      <td>32927</td>\n",
              "      <td>32927</td>\n",
              "      <td>32927</td>\n",
              "    </tr>\n",
              "    <tr>\n",
              "      <th>4</th>\n",
              "      <td>9206</td>\n",
              "      <td>9206</td>\n",
              "      <td>9206</td>\n",
              "    </tr>\n",
              "  </tbody>\n",
              "</table>\n",
              "</div>"
            ],
            "text/plain": [
              "           PhraseId  SentenceId  Phrase\n",
              "Sentiment                              \n",
              "0              7072        7072    7072\n",
              "1             27273       27273   27273\n",
              "2             79582       79582   79582\n",
              "3             32927       32927   32927\n",
              "4              9206        9206    9206"
            ]
          },
          "metadata": {
            "tags": []
          },
          "execution_count": 47
        }
      ]
    },
    {
      "cell_type": "code",
      "metadata": {
        "id": "z0sPWljV4RQa",
        "colab_type": "code",
        "colab": {
          "base_uri": "https://localhost:8080/",
          "height": 279
        },
        "outputId": "01729b0e-e590-49c1-c943-89746e8465f6"
      },
      "source": [
        "plt.bar(Sentiment_count.index.values,Sentiment_count['Phrase'])\n",
        "plt.xlabel('Review sentiments')\n",
        "plt.ylabel('number of reviews')\n",
        "plt.show()"
      ],
      "execution_count": 48,
      "outputs": [
        {
          "output_type": "display_data",
          "data": {
            "image/png": "[encoded data removed]",
            "text/plain": [
              "<Figure size 432x288 with 1 Axes>"
            ]
          },
          "metadata": {
            "tags": []
          }
        }
      ]
    },
    {
      "cell_type": "code",
      "metadata": {
        "id": "ATQUekkX6kZz",
        "colab_type": "code",
        "colab": {
          "base_uri": "https://localhost:8080/",
          "height": 34
        },
        "outputId": "2389b434-6ae8-4405-da14-3b78151153cd"
      },
      "source": [
        "sdata.columns"
      ],
      "execution_count": 54,
      "outputs": [
        {
          "output_type": "execute_result",
          "data": {
            "text/plain": [
              "Index(['PhraseId', 'SentenceId', 'Phrase', 'Sentiment'], dtype='object')"
            ]
          },
          "metadata": {
            "tags": []
          },
          "execution_count": 54
        }
      ]
    },
    {
      "cell_type": "code",
      "metadata": {
        "id": "41t0Hpym4uAd",
        "colab_type": "code",
        "colab": {}
      },
      "source": [
        "#Feature Generation using BOW\n",
        "from sklearn.feature_extraction.text import CountVectorizer\n",
        "from nltk.tokenize import RegexpTokenizer\n",
        "token=RegexpTokenizer(r'[a-zA-Z0-9]+')\n",
        "cv=CountVectorizer(lowercase=True,stop_words='english',ngram_range=(1,1),tokenizer=token.tokenize)\n",
        "\n"
      ],
      "execution_count": 0,
      "outputs": []
    },
    {
      "cell_type": "code",
      "metadata": {
        "id": "7ueeZNY863IX",
        "colab_type": "code",
        "colab": {}
      },
      "source": [
        "text_counts=cv.fit_transform(sdata['Phrase'])"
      ],
      "execution_count": 0,
      "outputs": []
    },
    {
      "cell_type": "code",
      "metadata": {
        "id": "jzwb0vIU7LEp",
        "colab_type": "code",
        "colab": {}
      },
      "source": [
        "#Split train and test data\n",
        "from sklearn.model_selection import train_test_split\n",
        "x_train,x_test,y_train,y_test= train_test_split(text_counts,sdata['Sentiment'],test_size=0.3,random_state=1)"
      ],
      "execution_count": 0,
      "outputs": []
    },
    {
      "cell_type": "code",
      "metadata": {
        "id": "hZvL7UBE7rCx",
        "colab_type": "code",
        "colab": {
          "base_uri": "https://localhost:8080/",
          "height": 34
        },
        "outputId": "71a8467b-8876-4efa-b4f5-338dbee4599f"
      },
      "source": [
        "#Model Building and Evaluation\n",
        "from sklearn.naive_bayes import MultinomialNB\n",
        "#from sklearn.naive_bayes import GaussianNB\n",
        "from sklearn import metrics\n",
        "clf=MultinomialNB().fit(x_train,y_train)\n",
        "#clf=GaussianNB().fit(x_train,y_train)\n",
        "pred=clf.predict(x_test)\n",
        "print(\"MultimonialNB Accuracy\",metrics.accuracy_score(y_test,pred))"
      ],
      "execution_count": 71,
      "outputs": [
        {
          "output_type": "stream",
          "text": [
            "MultimonialNB Accuracy 0.6049169122986885\n"
          ],
          "name": "stdout"
        }
      ]
    },
    {
      "cell_type": "code",
      "metadata": {
        "id": "6tnDYoPN9l5j",
        "colab_type": "code",
        "colab": {}
      },
      "source": [
        "#Model with TFID\n",
        "from sklearn.feature_extraction.text import TfidfVectorizer\n",
        "tf=TfidfVectorizer()\n",
        "text_tf=tf.fit_transform(sdata['Phrase'])"
      ],
      "execution_count": 0,
      "outputs": []
    },
    {
      "cell_type": "code",
      "metadata": {
        "id": "tVuWWYVa-EOy",
        "colab_type": "code",
        "colab": {
          "base_uri": "https://localhost:8080/",
          "height": 34
        },
        "outputId": "971b840b-bf39-4999-c639-37a8e6d9382f"
      },
      "source": [
        "from sklearn.naive_bayes import MultinomialNB\n",
        "from sklearn import metrics\n",
        "clf=MultinomialNB().fit(x_train,y_train)\n",
        "pred=clf.predict(x_test)\n",
        "print(\"MultimonialNB Accuracy\",metrics.accuracy_score(y_test,pred))"
      ],
      "execution_count": 73,
      "outputs": [
        {
          "output_type": "stream",
          "text": [
            "MultimonialNB Accuracy 0.6049169122986885\n"
          ],
          "name": "stdout"
        }
      ]
    }
  ]
}