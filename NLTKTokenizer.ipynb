{
  "nbformat": 4,
  "nbformat_minor": 0,
  "metadata": {
    "colab": {
      "name": "NLTKTokenizer.ipynb",
      "provenance": [],
      "collapsed_sections": [],
      "authorship_tag": "ABX9TyO1MIhdawMIfvKGkoj57X0L",
      "include_colab_link": true
    },
    "kernelspec": {
      "name": "python3",
      "display_name": "Python 3"
    }
  },
  "cells": [
    {
      "cell_type": "markdown",
      "metadata": {
        "id": "view-in-github",
        "colab_type": "text"
      },
      "source": [
        "<a href=\"https://colab.research.google.com/github/kgovindaraju123/AIML/blob/master/NLTKTokenizer.ipynb\" target=\"_parent\"><img src=\"https://colab.research.google.com/assets/colab-badge.svg\" alt=\"Open In Colab\"/></a>"
      ]
    },
    {
      "cell_type": "code",
      "metadata": {
        "id": "FWoZKddmrW9a",
        "colab_type": "code",
        "colab": {
          "base_uri": "https://localhost:8080/",
          "height": 170
        },
        "outputId": "f8573d14-7f8d-4d50-8b5f-7634385baf5c"
      },
      "source": [
        "import nltk\n",
        "nltk.download('punkt')\n",
        "nltk.download('stopwords')\n",
        "nltk.download('wordnet') #www.wordnet.com princeton university\n",
        "nltk.download('averaged_perceptron_tagger')\n",
        "import seaborn as sns\n",
        "from nltk.stem import PorterStemmer\n",
        "from nltk.stem import WordNetLemmatizer"
      ],
      "execution_count": 40,
      "outputs": [
        {
          "output_type": "stream",
          "text": [
            "[nltk_data] Downloading package punkt to /root/nltk_data...\n",
            "[nltk_data]   Package punkt is already up-to-date!\n",
            "[nltk_data] Downloading package stopwords to /root/nltk_data...\n",
            "[nltk_data]   Package stopwords is already up-to-date!\n",
            "[nltk_data] Downloading package wordnet to /root/nltk_data...\n",
            "[nltk_data]   Package wordnet is already up-to-date!\n",
            "[nltk_data] Downloading package averaged_perceptron_tagger to\n",
            "[nltk_data]     /root/nltk_data...\n",
            "[nltk_data]   Unzipping taggers/averaged_perceptron_tagger.zip.\n"
          ],
          "name": "stdout"
        }
      ]
    },
    {
      "cell_type": "code",
      "metadata": {
        "id": "NjEtJhHor8u8",
        "colab_type": "code",
        "colab": {
          "base_uri": "https://localhost:8080/",
          "height": 34
        },
        "outputId": "15ed5375-27da-4c4c-965d-6e8eea78ad1c"
      },
      "source": [
        "from nltk.tokenize import word_tokenize\n",
        "text = \"Hi hello how you doing\"\n",
        "print(word_tokenize(text))"
      ],
      "execution_count": 22,
      "outputs": [
        {
          "output_type": "stream",
          "text": [
            "['Hi', 'hello', 'how', 'you', 'doing']\n"
          ],
          "name": "stdout"
        }
      ]
    },
    {
      "cell_type": "code",
      "metadata": {
        "id": "WqAfuevOr8Yy",
        "colab_type": "code",
        "colab": {
          "base_uri": "https://localhost:8080/",
          "height": 34
        },
        "outputId": "4ddfb5b4-f1e0-4aa5-919e-8068246c55b3"
      },
      "source": [
        "from nltk.tokenize import sent_tokenize\n",
        "text = \"Oh! My God!, it's a miracle\"\n",
        "print(sent_tokenize(text))"
      ],
      "execution_count": 23,
      "outputs": [
        {
          "output_type": "stream",
          "text": [
            "['Oh!', \"My God!, it's a miracle\"]\n"
          ],
          "name": "stdout"
        }
      ]
    },
    {
      "cell_type": "code",
      "metadata": {
        "id": "yVEXDS5Wr8Uz",
        "colab_type": "code",
        "colab": {
          "base_uri": "https://localhost:8080/",
          "height": 51
        },
        "outputId": "a184c742-a5a6-4eee-9995-ad1c7c63fa0f"
      },
      "source": [
        "story='India is a country with rich natural resources and skilled population. India is a subcontinent with huge population and culture of India is greatly known to the world'\n",
        "tokenized_story=sent_tokenize(story)\n",
        "tokenized_story"
      ],
      "execution_count": 24,
      "outputs": [
        {
          "output_type": "execute_result",
          "data": {
            "text/plain": [
              "['India is a country with rich natural resources and skilled population.',\n",
              " 'India is a subcontinent with huge population and culture of India is greatly known to the world']"
            ]
          },
          "metadata": {
            "tags": []
          },
          "execution_count": 24
        }
      ]
    },
    {
      "cell_type": "code",
      "metadata": {
        "id": "Uo6fOPdIr8Qn",
        "colab_type": "code",
        "colab": {
          "base_uri": "https://localhost:8080/",
          "height": 510
        },
        "outputId": "2951d196-750a-49c6-9765-0883723402fa"
      },
      "source": [
        "tokenized_Word=word_tokenize(story)\n",
        "tokenized_Word"
      ],
      "execution_count": 25,
      "outputs": [
        {
          "output_type": "execute_result",
          "data": {
            "text/plain": [
              "['India',\n",
              " 'is',\n",
              " 'a',\n",
              " 'country',\n",
              " 'with',\n",
              " 'rich',\n",
              " 'natural',\n",
              " 'resources',\n",
              " 'and',\n",
              " 'skilled',\n",
              " 'population',\n",
              " '.',\n",
              " 'India',\n",
              " 'is',\n",
              " 'a',\n",
              " 'subcontinent',\n",
              " 'with',\n",
              " 'huge',\n",
              " 'population',\n",
              " 'and',\n",
              " 'culture',\n",
              " 'of',\n",
              " 'India',\n",
              " 'is',\n",
              " 'greatly',\n",
              " 'known',\n",
              " 'to',\n",
              " 'the',\n",
              " 'world']"
            ]
          },
          "metadata": {
            "tags": []
          },
          "execution_count": 25
        }
      ]
    },
    {
      "cell_type": "code",
      "metadata": {
        "id": "FjlXHI-it-lI",
        "colab_type": "code",
        "colab": {
          "base_uri": "https://localhost:8080/",
          "height": 51
        },
        "outputId": "b47e43d1-2cb9-4aca-f22e-33b33874b9b9"
      },
      "source": [
        "from nltk.probability import FreqDist\n",
        "freq=FreqDist(tokenized_Word)\n",
        "print(freq)\n",
        "freq.most_common(3)"
      ],
      "execution_count": 26,
      "outputs": [
        {
          "output_type": "stream",
          "text": [
            "<FreqDist with 21 samples and 29 outcomes>\n"
          ],
          "name": "stdout"
        },
        {
          "output_type": "execute_result",
          "data": {
            "text/plain": [
              "[('India', 3), ('is', 3), ('a', 2)]"
            ]
          },
          "metadata": {
            "tags": []
          },
          "execution_count": 26
        }
      ]
    },
    {
      "cell_type": "code",
      "metadata": {
        "id": "Js7I35Ott-iF",
        "colab_type": "code",
        "colab": {
          "base_uri": "https://localhost:8080/",
          "height": 335
        },
        "outputId": "073215e0-9300-4024-9f99-e4b1cecb8556"
      },
      "source": [
        "import matplotlib.pyplot as plt\n",
        "freq.plot(30,cumulative=False)\n",
        "plt.show()"
      ],
      "execution_count": 27,
      "outputs": [
        {
          "output_type": "display_data",
          "data": {
            "image/png": "[encoded data removed]",
            "text/plain": [
              "<Figure size 432x288 with 1 Axes>"
            ]
          },
          "metadata": {
            "tags": []
          }
        }
      ]
    },
    {
      "cell_type": "code",
      "metadata": {
        "id": "IoQ6_PSpt-fr",
        "colab_type": "code",
        "colab": {
          "base_uri": "https://localhost:8080/",
          "height": 54
        },
        "outputId": "1e0389a7-a99e-4484-c2db-d9c891003761"
      },
      "source": [
        "from nltk.corpus import stopwords\n",
        "stop_words=set(stopwords.words(\"english\"))\n",
        "print(stop_words)"
      ],
      "execution_count": 29,
      "outputs": [
        {
          "output_type": "stream",
          "text": [
            "{'doing', 'same', 'by', 'd', 'yourselves', 'that', 'can', 'any', 'here', 'him', \"isn't\", 'don', 'very', 'only', 's', \"needn't\", 'until', 'ourselves', \"she's\", 'too', 'should', 'does', 'you', \"should've\", 'have', 'yourself', 'these', 'ma', 'on', 'during', 'theirs', 'a', 'himself', 'be', 'will', 'once', 'not', 'of', 'do', 'i', 'or', 'isn', 'against', 'he', 'between', 'did', 'if', 'hasn', 't', 'each', 'didn', \"mustn't\", 'their', 'off', 'below', 'was', 'has', 'an', 'the', 'with', 'shan', 'needn', \"you'd\", \"you've\", 'had', 'some', 'than', 'been', 'them', 'and', 'other', 'to', 'themselves', 'ours', 'then', 'as', 'down', 'few', 'more', 'hers', 'whom', 'is', 'nor', \"haven't\", 'herself', 'about', 'just', 'she', \"weren't\", 'won', 'all', 'in', 'further', 'own', 'how', 'his', 'hadn', \"won't\", \"shouldn't\", 'why', 'they', \"it's\", 'll', 'mustn', \"shan't\", 'such', 'haven', 'having', \"aren't\", 'couldn', 'myself', \"mightn't\", 'under', \"wasn't\", 'into', 'your', 'this', 'from', \"didn't\", 'for', 'above', 'doesn', 'ain', 'm', 'its', \"wouldn't\", 'which', \"don't\", 'there', \"you're\", 'we', 'are', \"couldn't\", 'me', 'while', 'weren', \"doesn't\", 'who', \"hadn't\", \"hasn't\", 'out', 've', 'after', 'what', 'o', 'because', 'before', 'her', 'y', 'but', 'it', 'our', 'yours', 'wouldn', 'itself', \"you'll\", 'my', 'again', 'were', 'where', 'no', 'at', 'now', 'being', 'am', 'most', 'over', 'when', 'aren', 'mightn', 'through', 'up', \"that'll\", 'both', 'so', 'wasn', 'those', 'shouldn', 're'}\n"
          ],
          "name": "stdout"
        }
      ]
    },
    {
      "cell_type": "code",
      "metadata": {
        "id": "m3hS9Ttit-av",
        "colab_type": "code",
        "colab": {}
      },
      "source": [
        "filter_words =[]\n",
        "for w in tokenized_Word:\n",
        "  if w not in stop_words:\n",
        "    filter_words.append(w)"
      ],
      "execution_count": 0,
      "outputs": []
    },
    {
      "cell_type": "code",
      "metadata": {
        "id": "paq8Um2dwR5E",
        "colab_type": "code",
        "colab": {
          "base_uri": "https://localhost:8080/",
          "height": 71
        },
        "outputId": "1ade332d-4644-47a6-d80c-1d1cbc5c200e"
      },
      "source": [
        "print(\"tokenized Sentence\",tokenized_story)\n",
        "print(\"filtered sentence\",filter_words)"
      ],
      "execution_count": 32,
      "outputs": [
        {
          "output_type": "stream",
          "text": [
            "tokenized Sentence ['India is a country with rich natural resources and skilled population.', 'India is a subcontinent with huge population and culture of India is greatly known to the world']\n",
            "filtered sentence ['India', 'country', 'rich', 'natural', 'resources', 'skilled', 'population', '.', 'India', 'subcontinent', 'huge', 'population', 'culture', 'India', 'greatly', 'known', 'world']\n"
          ],
          "name": "stdout"
        }
      ]
    },
    {
      "cell_type": "code",
      "metadata": {
        "id": "OeyQa7QZwqao",
        "colab_type": "code",
        "colab": {
          "base_uri": "https://localhost:8080/",
          "height": 71
        },
        "outputId": "bc613f0b-a330-4105-c757-7c6ea5921685"
      },
      "source": [
        "#Stemming\n",
        "ps=PorterStemmer()\n",
        "stemword=[]\n",
        "for w in filter_words:\n",
        "  stemword.append(ps.stem(w))\n",
        "print(\"Filtered Sentence:\",filter_words)\n",
        "print(\"stemmed Sentence:\",stemword)"
      ],
      "execution_count": 33,
      "outputs": [
        {
          "output_type": "stream",
          "text": [
            "Filtered Sentence: ['India', 'country', 'rich', 'natural', 'resources', 'skilled', 'population', '.', 'India', 'subcontinent', 'huge', 'population', 'culture', 'India', 'greatly', 'known', 'world']\n",
            "stemmed Sentence: ['india', 'countri', 'rich', 'natur', 'resourc', 'skill', 'popul', '.', 'india', 'subcontin', 'huge', 'popul', 'cultur', 'india', 'greatli', 'known', 'world']\n"
          ],
          "name": "stdout"
        }
      ]
    },
    {
      "cell_type": "code",
      "metadata": {
        "id": "KwF1vOnKxZRu",
        "colab_type": "code",
        "colab": {
          "base_uri": "https://localhost:8080/",
          "height": 51
        },
        "outputId": "d11987a2-399c-4dc2-a3c7-75a101afa60b"
      },
      "source": [
        "#Lemmatizing\n",
        "lemma=WordNetLemmatizer\n",
        "from nltk.stem.porter import PorterStemmer\n",
        "stem=PorterStemmer()\n",
        "word=\"natural\"\n",
        "print(\"Lemmatized Word:\",lemma.lemmatize(word,\"v\"))\n",
        "print(\"Stemmed Word:\",stem.stem(word))"
      ],
      "execution_count": 35,
      "outputs": [
        {
          "output_type": "stream",
          "text": [
            "Lemmatized Word: v\n",
            "Stemmed Word: natur\n"
          ],
          "name": "stdout"
        }
      ]
    },
    {
      "cell_type": "code",
      "metadata": {
        "id": "7ip-wj_qyB_B",
        "colab_type": "code",
        "colab": {
          "base_uri": "https://localhost:8080/",
          "height": 306
        },
        "outputId": "c0a95a4e-1570-4194-97e4-7df1101883d0"
      },
      "source": [
        "rewards = \"India is best cricket team in the world. Virat Kohli is India Team Captain.\"\n",
        "tokens = nltk.word_tokenize(rewards)\n",
        "print(tokens)\n",
        "nltk.pos_tag(tokens)"
      ],
      "execution_count": 41,
      "outputs": [
        {
          "output_type": "stream",
          "text": [
            "['India', 'is', 'best', 'cricket', 'team', 'in', 'the', 'world', '.', 'Virat', 'Kohli', 'is', 'India', 'Team', 'Captain', '.']\n"
          ],
          "name": "stdout"
        },
        {
          "output_type": "execute_result",
          "data": {
            "text/plain": [
              "[('India', 'NNP'),\n",
              " ('is', 'VBZ'),\n",
              " ('best', 'JJS'),\n",
              " ('cricket', 'NN'),\n",
              " ('team', 'NN'),\n",
              " ('in', 'IN'),\n",
              " ('the', 'DT'),\n",
              " ('world', 'NN'),\n",
              " ('.', '.'),\n",
              " ('Virat', 'NNP'),\n",
              " ('Kohli', 'NNP'),\n",
              " ('is', 'VBZ'),\n",
              " ('India', 'NNP'),\n",
              " ('Team', 'NNP'),\n",
              " ('Captain', 'NNP'),\n",
              " ('.', '.')]"
            ]
          },
          "metadata": {
            "tags": []
          },
          "execution_count": 41
        }
      ]
    }
  ]
}