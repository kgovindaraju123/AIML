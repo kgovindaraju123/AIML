{
  "nbformat": 4,
  "nbformat_minor": 0,
  "metadata": {
    "colab": {
      "name": "functions.ipynb",
      "provenance": [],
      "collapsed_sections": [],
      "include_colab_link": true
    },
    "kernelspec": {
      "name": "python3",
      "display_name": "Python 3"
    }
  },
  "cells": [
    {
      "cell_type": "markdown",
      "metadata": {
        "id": "view-in-github",
        "colab_type": "text"
      },
      "source": [
        "<a href=\"https://colab.research.google.com/github/kgovindaraju123/AIML/blob/master/functions.ipynb\" target=\"_parent\"><img src=\"https://colab.research.google.com/assets/colab-badge.svg\" alt=\"Open In Colab\"/></a>"
      ]
    },
    {
      "cell_type": "code",
      "metadata": {
        "id": "PFzvlZ-rHZRg",
        "colab_type": "code",
        "colab": {}
      },
      "source": [
        "# Function Creation\n",
        "   def addvalues(a,b):\n",
        "     c=a+b\n",
        "     return(c)\n"
      ],
      "execution_count": 0,
      "outputs": []
    },
    {
      "cell_type": "code",
      "metadata": {
        "id": "IYIhRCxYHr3y",
        "colab_type": "code",
        "outputId": "c69a5f62-84f0-44d1-c3ac-95612f75f51b",
        "colab": {
          "base_uri": "https://localhost:8080/",
          "height": 34
        }
      },
      "source": [
        "# Function calling\n",
        "addvalues(5,6)"
      ],
      "execution_count": 0,
      "outputs": [
        {
          "output_type": "execute_result",
          "data": {
            "text/plain": [
              "11"
            ]
          },
          "metadata": {
            "tags": []
          },
          "execution_count": 3
        }
      ]
    },
    {
      "cell_type": "code",
      "metadata": {
        "id": "6u33rFJmIURr",
        "colab_type": "code",
        "colab": {}
      },
      "source": [
        "def fruitcolor(fruitname):\n",
        "  fruitname = fruitname.lower()\n",
        "  if fruitname == 'apple':\n",
        "    fruitname=1\n",
        "  elif fruitname == 'banana':\n",
        "    fruitname =2\n",
        "  return fruitname"
      ],
      "execution_count": 0,
      "outputs": []
    },
    {
      "cell_type": "code",
      "metadata": {
        "id": "xnXiGrixIvcI",
        "colab_type": "code",
        "outputId": "19242fd0-9f8e-43d8-a800-e43db2b24bfa",
        "colab": {
          "base_uri": "https://localhost:8080/",
          "height": 34
        }
      },
      "source": [
        "fruitcolor('apple')"
      ],
      "execution_count": 0,
      "outputs": [
        {
          "output_type": "execute_result",
          "data": {
            "text/plain": [
              "1"
            ]
          },
          "metadata": {
            "tags": []
          },
          "execution_count": 5
        }
      ]
    },
    {
      "cell_type": "code",
      "metadata": {
        "id": "NnYuPDnyI0VQ",
        "colab_type": "code",
        "outputId": "5dae0e16-cfd1-41d9-8464-fa7d177314c8",
        "colab": {
          "base_uri": "https://localhost:8080/",
          "height": 34
        }
      },
      "source": [
        "fruitcolor('banana')"
      ],
      "execution_count": 0,
      "outputs": [
        {
          "output_type": "execute_result",
          "data": {
            "text/plain": [
              "2"
            ]
          },
          "metadata": {
            "tags": []
          },
          "execution_count": 6
        }
      ]
    },
    {
      "cell_type": "code",
      "metadata": {
        "id": "NLYkwsofJi-c",
        "colab_type": "code",
        "colab": {}
      },
      "source": [
        "def comments():\n",
        "  {\n",
        "      print(\"this is only a comment from the function\")\n",
        "  }"
      ],
      "execution_count": 0,
      "outputs": []
    },
    {
      "cell_type": "code",
      "metadata": {
        "id": "KuglHtLtKFip",
        "colab_type": "code",
        "outputId": "e2a5d48e-482e-4312-cdaf-37b758f91da7",
        "colab": {
          "base_uri": "https://localhost:8080/",
          "height": 34
        }
      },
      "source": [
        "comments()"
      ],
      "execution_count": 0,
      "outputs": [
        {
          "output_type": "stream",
          "text": [
            "this is only a comment from the function\n"
          ],
          "name": "stdout"
        }
      ]
    },
    {
      "cell_type": "code",
      "metadata": {
        "id": "58uPVayoKeSR",
        "colab_type": "code",
        "colab": {}
      },
      "source": [
        "import re\n",
        "story = 'Hi Hello! how are you doing &$%%%$ I am well yesterday and hope today i will also be well@@@@@****'"
      ],
      "execution_count": 0,
      "outputs": []
    },
    {
      "cell_type": "code",
      "metadata": {
        "id": "8sMmNB2lK8hn",
        "colab_type": "code",
        "outputId": "ad0e9fae-4727-4548-ae64-d6520580445a",
        "colab": {
          "base_uri": "https://localhost:8080/",
          "height": 340
        }
      },
      "source": [
        "cleandata = re.split(\"\\W+\", story)\n",
        "cleandata"
      ],
      "execution_count": 0,
      "outputs": [
        {
          "output_type": "execute_result",
          "data": {
            "text/plain": [
              "['Hi',\n",
              " 'Hello',\n",
              " 'how',\n",
              " 'are',\n",
              " 'you',\n",
              " 'doing',\n",
              " 'I',\n",
              " 'am',\n",
              " 'well',\n",
              " 'yesterday',\n",
              " 'and',\n",
              " 'hope',\n",
              " 'today',\n",
              " 'i',\n",
              " 'will',\n",
              " 'also',\n",
              " 'be',\n",
              " 'well',\n",
              " '']"
            ]
          },
          "metadata": {
            "tags": []
          },
          "execution_count": 10
        }
      ]
    },
    {
      "cell_type": "code",
      "metadata": {
        "id": "9CCOfxj0Lxuq",
        "colab_type": "code",
        "colab": {}
      },
      "source": [
        "def cleandata(story):\n",
        "    cleandata = re.split(\"\\W+\",story)\n",
        "    return cleandata"
      ],
      "execution_count": 0,
      "outputs": []
    },
    {
      "cell_type": "code",
      "metadata": {
        "id": "x7OaywyZNknC",
        "colab_type": "code",
        "outputId": "aae15f56-a15d-4cb4-b7d5-b3b58ada4e10",
        "colab": {
          "base_uri": "https://localhost:8080/",
          "height": 221
        }
      },
      "source": [
        "cleandata(\"*&%%%%$$#@Hi Today is Monday *&% I like the beginning of the week\")"
      ],
      "execution_count": 0,
      "outputs": [
        {
          "output_type": "execute_result",
          "data": {
            "text/plain": [
              "['',\n",
              " 'Hi',\n",
              " 'Today',\n",
              " 'is',\n",
              " 'Monday',\n",
              " 'I',\n",
              " 'like',\n",
              " 'the',\n",
              " 'beginning',\n",
              " 'of',\n",
              " 'the',\n",
              " 'week']"
            ]
          },
          "metadata": {
            "tags": []
          },
          "execution_count": 12
        }
      ]
    },
    {
      "cell_type": "code",
      "metadata": {
        "id": "QJHbc7DwOTg_",
        "colab_type": "code",
        "colab": {}
      },
      "source": [
        "#create a function for cube and square\n",
        "def cube(x):\n",
        "  result = x*x*x\n",
        "  return(result)\n",
        "\n",
        "def square(x):\n",
        "  result = x*x\n",
        "  return(result)"
      ],
      "execution_count": 0,
      "outputs": []
    },
    {
      "cell_type": "code",
      "metadata": {
        "id": "ofYFOH-vO32i",
        "colab_type": "code",
        "outputId": "5e1c2d93-b7ae-4e07-f9a8-e7e835407127",
        "colab": {
          "base_uri": "https://localhost:8080/",
          "height": 51
        }
      },
      "source": [
        "print(square(4))\n",
        "cube(4)\n"
      ],
      "execution_count": 0,
      "outputs": [
        {
          "output_type": "stream",
          "text": [
            "16\n"
          ],
          "name": "stdout"
        },
        {
          "output_type": "execute_result",
          "data": {
            "text/plain": [
              "64"
            ]
          },
          "metadata": {
            "tags": []
          },
          "execution_count": 14
        }
      ]
    },
    {
      "cell_type": "code",
      "metadata": {
        "id": "liEGbJO5P4z4",
        "colab_type": "code",
        "outputId": "97ca263e-8246-4fa0-8334-32d39a52356a",
        "colab": {
          "base_uri": "https://localhost:8080/",
          "height": 34
        }
      },
      "source": [
        "#LAMBDA FUNCTION - ANONYMOUS FUNCTION\n",
        "result = lambda x: x*x\n",
        "result(4)"
      ],
      "execution_count": 0,
      "outputs": [
        {
          "output_type": "execute_result",
          "data": {
            "text/plain": [
              "16"
            ]
          },
          "metadata": {
            "tags": []
          },
          "execution_count": 16
        }
      ]
    },
    {
      "cell_type": "code",
      "metadata": {
        "id": "0nddBjiHQEUx",
        "colab_type": "code",
        "outputId": "3ba99d98-525b-442a-b5eb-d844ee29a082",
        "colab": {
          "base_uri": "https://localhost:8080/",
          "height": 34
        }
      },
      "source": [
        "cuberesult = lambda x:x*x*x\n",
        "cuberesult(4)"
      ],
      "execution_count": 0,
      "outputs": [
        {
          "output_type": "execute_result",
          "data": {
            "text/plain": [
              "64"
            ]
          },
          "metadata": {
            "tags": []
          },
          "execution_count": 17
        }
      ]
    }
  ]
}