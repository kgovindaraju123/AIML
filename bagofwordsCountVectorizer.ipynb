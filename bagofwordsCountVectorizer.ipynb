{
  "nbformat": 4,
  "nbformat_minor": 0,
  "metadata": {
    "colab": {
      "name": "bagofwordsCountVectorizer.ipynb",
      "provenance": [],
      "collapsed_sections": [],
      "authorship_tag": "ABX9TyMFBJs40FPvSe6Ppf84oCAZ",
      "include_colab_link": true
    },
    "kernelspec": {
      "name": "python3",
      "display_name": "Python 3"
    }
  },
  "cells": [
    {
      "cell_type": "markdown",
      "metadata": {
        "id": "view-in-github",
        "colab_type": "text"
      },
      "source": [
        "<a href=\"https://colab.research.google.com/github/kgovindaraju123/AIML/blob/master/bagofwordsCountVectorizer.ipynb\" target=\"_parent\"><img src=\"https://colab.research.google.com/assets/colab-badge.svg\" alt=\"Open In Colab\"/></a>"
      ]
    },
    {
      "cell_type": "code",
      "metadata": {
        "id": "Ssbc7o81Ueyd",
        "colab_type": "code",
        "outputId": "17cf9aff-f67a-4a43-cab2-2dde39e083bd",
        "colab": {
          "base_uri": "https://localhost:8080/",
          "height": 1000
        }
      },
      "source": [
        "import re\n",
        "import matplotlib.pyplot as plt\n",
        "from sklearn.feature_extraction.text import CountVectorizer\n",
        "text = [\" India is a country in South Asia. It is the seventh-largest country by area, the second-most populous country, and the most populous democracy in the world. Bounded by the Indian Ocean on the south, the Arabian Sea on the southwest, and the Bay of Bengal on the southeast, it shares land borders with Pakistan to the west;[e] China, Nepal, and Bhutan to the north; and Bangladesh and Myanmar to the east. In the Indian Ocean, India is in the vicinity of SriLanka and the Maldives; its Andaman and Nicobar Islands share a maritime border with Thailand and Indonesia\"]\n",
        "len(text)\n",
        "#Create the transform\n",
        "vectorizer=CountVectorizer()\n",
        "print(vectorizer)\n",
        "#tokenize and build vocab\n",
        "vectorizer.fit(text)\n",
        "#summarize\n",
        "print(vectorizer.vocabulary_)\n",
        "#encode_document\n",
        "vector=vectorizer.transform(text)\n",
        "print(vector)\n",
        "# summarize encoded vector\n",
        "print(vector.shape)\n",
        "print(type(vector))\n",
        "print(vector.toarray())\n"
      ],
      "execution_count": 11,
      "outputs": [
        {
          "output_type": "stream",
          "text": [
            "CountVectorizer(analyzer='word', binary=False, decode_error='strict',\n",
            "                dtype=<class 'numpy.int64'>, encoding='utf-8', input='content',\n",
            "                lowercase=True, max_df=1.0, max_features=None, min_df=1,\n",
            "                ngram_range=(1, 1), preprocessor=None, stop_words=None,\n",
            "                strip_accents=None, token_pattern='(?u)\\\\b\\\\w\\\\w+\\\\b',\n",
            "                tokenizer=None, vocabulary=None)\n",
            "{'india': 18, 'is': 21, 'country': 14, 'in': 17, 'south': 44, 'asia': 4, 'it': 23, 'the': 49, 'seventh': 41, 'largest': 26, 'by': 12, 'area': 3, 'second': 40, 'most': 29, 'populous': 38, 'and': 0, 'democracy': 15, 'world': 54, 'bounded': 11, 'indian': 19, 'ocean': 34, 'on': 36, 'arabian': 2, 'sea': 39, 'southwest': 46, 'bay': 6, 'of': 35, 'bengal': 7, 'southeast': 45, 'shares': 43, 'land': 25, 'borders': 10, 'with': 53, 'pakistan': 37, 'to': 50, 'west': 52, 'china': 13, 'nepal': 31, 'bhutan': 8, 'north': 33, 'bangladesh': 5, 'myanmar': 30, 'east': 16, 'vicinity': 51, 'srilanka': 47, 'maldives': 27, 'its': 24, 'andaman': 1, 'nicobar': 32, 'islands': 22, 'share': 42, 'maritime': 28, 'border': 9, 'thailand': 48, 'indonesia': 20}\n",
            "  (0, 0)\t8\n",
            "  (0, 1)\t1\n",
            "  (0, 2)\t1\n",
            "  (0, 3)\t1\n",
            "  (0, 4)\t1\n",
            "  (0, 5)\t1\n",
            "  (0, 6)\t1\n",
            "  (0, 7)\t1\n",
            "  (0, 8)\t1\n",
            "  (0, 9)\t1\n",
            "  (0, 10)\t1\n",
            "  (0, 11)\t1\n",
            "  (0, 12)\t2\n",
            "  (0, 13)\t1\n",
            "  (0, 14)\t3\n",
            "  (0, 15)\t1\n",
            "  (0, 16)\t1\n",
            "  (0, 17)\t4\n",
            "  (0, 18)\t2\n",
            "  (0, 19)\t2\n",
            "  (0, 20)\t1\n",
            "  (0, 21)\t3\n",
            "  (0, 22)\t1\n",
            "  (0, 23)\t2\n",
            "  (0, 24)\t1\n",
            "  :\t:\n",
            "  (0, 30)\t1\n",
            "  (0, 31)\t1\n",
            "  (0, 32)\t1\n",
            "  (0, 33)\t1\n",
            "  (0, 34)\t2\n",
            "  (0, 35)\t2\n",
            "  (0, 36)\t3\n",
            "  (0, 37)\t1\n",
            "  (0, 38)\t2\n",
            "  (0, 39)\t1\n",
            "  (0, 40)\t1\n",
            "  (0, 41)\t1\n",
            "  (0, 42)\t1\n",
            "  (0, 43)\t1\n",
            "  (0, 44)\t2\n",
            "  (0, 45)\t1\n",
            "  (0, 46)\t1\n",
            "  (0, 47)\t1\n",
            "  (0, 48)\t1\n",
            "  (0, 49)\t16\n",
            "  (0, 50)\t3\n",
            "  (0, 51)\t1\n",
            "  (0, 52)\t1\n",
            "  (0, 53)\t2\n",
            "  (0, 54)\t1\n",
            "(1, 55)\n",
            "<class 'scipy.sparse.csr.csr_matrix'>\n",
            "[[ 8  1  1  1  1  1  1  1  1  1  1  1  2  1  3  1  1  4  2  2  1  3  1  2\n",
            "   1  1  1  1  1  2  1  1  1  1  2  2  3  1  2  1  1  1  1  1  2  1  1  1\n",
            "   1 16  3  1  1  2  1]]\n"
          ],
          "name": "stdout"
        }
      ]
    },
    {
      "cell_type": "code",
      "metadata": {
        "id": "KZqfQgASWqmN",
        "colab_type": "code",
        "colab": {}
      },
      "source": [
        "#fig=plt.figure(figsize=(20,10))\n",
        "#plt.bar(X,Y)\n",
        "#plt.xticks(rotation=\"vertical\")\n",
        "#plt.show()"
      ],
      "execution_count": 0,
      "outputs": []
    },
    {
      "cell_type": "code",
      "metadata": {
        "id": "QzOxOsB0d2o1",
        "colab_type": "code",
        "colab": {
          "base_uri": "https://localhost:8080/",
          "height": 1000
        },
        "outputId": "eb40f179-f4f6-4a57-8dc4-f4099024793d"
      },
      "source": [
        "import pandas as pd\n",
        "from sklearn.feature_extraction.text import CountVectorizer\n",
        "sdata=pd.read_csv(\"spam.csv\",encoding='latin-1')\n",
        "sdata.head(5)\n",
        "data=sdata[['v2','v1']]\n",
        "data.head(5)\n",
        "data.columns=['sms','type']\n",
        "#data.head(5)\n",
        "countvect=CountVectorizer(ngram_range=(1,4),stop_words='english',strip_accents='unicode',max_features=1000)\n",
        "#countvect\n",
        "countfit=countvect.fit_transform(data.sms)\n",
        "#countfit\n",
        "print(countvect.get_feature_names())\n",
        "#countfit.toarray()\n",
        "countfit.toarray().sum(axis=0)\n"
      ],
      "execution_count": 20,
      "outputs": [
        {
          "output_type": "stream",
          "text": [
            "['000', '03', '04', '0800', '08000839402', '08000930705', '10', '100', '1000', '1000 cash', '10p', '10p min', '11', '12', '12hrs', '150', '150p', '150p msg', '150ppm', '16', '18', '1st', '1st week', '20', '200', '2000', '2000 prize', '2000 prize guaranteed', '2003', '2003 account', '2003 account statement', '250', '2lands', '2lands row', '2lands row w1j6hl', '2nd', '2nd attempt', '30', '350', '350 award', '50', '500', '5000', '750', '800', '800 redeemed', '800 redeemed points', '8007', '86688', '86688 150p', '87066', '900', 'abiola', 'able', 'abt', 'ac', 'account', 'account statement', 'actually', 'address', 'admirer', 'aft', 'afternoon', 'age', 'ago', 'ah', 'aight', 'alright', 'amp', 'angry', 'ans', 'answer', 'anytime', 'apply', 'ard', 'area', 'asap', 'ask', 'askd', 'asked', 'asking', 'ass', 'attempt', 'attempt contact', 'auction', 'available', 'await', 'await collection', 'award', 'awarded', 'away', 'awesome', 'b4', 'babe', 'baby', 'bad', 'balance', 'bank', 'bath', 'bcoz', 'beautiful', 'bed', 'believe', 'best', 'better', 'big', 'birthday', 'bit', 'blood', 'blue', 'bonus', 'bonus caller', 'bonus caller prize', 'book', 'booked', 'bored', 'bout', 'box', 'boy', 'boytoy', 'break', 'bring', 'brother', 'bslvyl', 'bt', 'bt national', 'bt national rate', 'bus', 'busy', 'buy', 'call2optout', 'called', 'caller', 'caller prize', 'callertune', 'calling', 'calls', 'camcorder', 'camcorder reply', 'camcorder reply 08000930705', 'came', 'camera', 'car', 'card', 'care', 'carlos', 'case', 'cash', 'cash await', 'cash await collection', 'cause', 'chance', 'chance win', 'change', 'charge', 'charged', 'chat', 'chat 86688', 'cheap', 'check', 'checking', 'chennai', 'chikku', 'choose', 'christmas', 'claim', 'claim code', 'claim ur', 'class', 'clean', 'close', 'club', 'code', 'collect', 'collection', 'college', 'colour', 'com', 'come', 'come home', 'come tomorrow', 'comes', 'comin', 'coming', 'comp', 'company', 'complimentary', 'computer', 'confirm', 'congrats', 'congratulations', 'contact', 'content', 'convey', 'cool', 'correct', 'cos', 'cost', 'costa', 'couple', 'course', 'coz', 'crave', 'crazy', 'credit', 'cs', 'cum', 'currently', 'custcare', 'customer', 'customer service', 'customer service representative', 'customer services', 'cut', 'da', 'dad', 'darlin', 'darren', 'dat', 'date', 'dating', 'dating service', 'day', 'days', 'dear', 'decided', 'decimal', 'decimal gt', 'deep', 'del', 'delivery', 'den', 'details', 'did', 'didn', 'didnt', 'die', 'different', 'difficult', 'dinner', 'direct', 'dis', 'discount', 'dnt', 'does', 'doesn', 'dogging', 'doin', 'doing', 'don', 'don know', 'don think', 'dont', 'dont know', 'double', 'double mins', 'download', 'draw', 'draw shows', 'draw shows won', 'dream', 'dreams', 'drink', 'drive', 'driving', 'drop', 'drugs', 'dude', 'dun', 'dun wan', 'dunno', 'earlier', 'early', 'easy', 'eat', 'eh', 'email', 'end', 'ends', 'enjoy', 'enter', 'entered', 'entry', 'eve', 'evening', 'ex', 'exam', 'expires', 'extra', 'face', 'family', 'fancy', 'far', 'fast', 'father', 'feel', 'feeling', 'feels', 'felt', 'final', 'finally', 'fine', 'finish', 'finished', 'fone', 'food', 'forget', 'forgot', 'fr', 'free', 'free entry', 'freemsg', 'fri', 'friday', 'friend', 'friends', 'friendship', 'frm', 'frnd', 'frnds', 'fuck', 'fucking', 'fun', 'gal', 'game', 'games', 'gas', 'gd', 'gets', 'getting', 'getzed uk', 'gift', 'girl', 'girls', 'gn', 'god', 'goes', 'goes day', 'goin', 'going', 'gone', 'gonna', 'good', 'good afternoon', 'good morning', 'good night', 'goodmorning', 'got', 'gotta', 'gr8', 'great', 'great day', 'grins', 'gt', 'gt lt', 'gt lt gt', 'gt min', 'guaranteed', 'guaranteed 1000', 'guaranteed 1000 cash', 'gud', 'gud mrng', 'gud ni8', 'guess', 'guy', 'guys', 'gym', 'ha', 'haf', 'haha', 'hair', 'half', 'half price', 'hand', 'happen', 'happened', 'happiness', 'happy', 'happy birthday', 'happy new', 'happy new year', 'hard', 'hav', 'haven', 'havent', 'having', 'head', 'hear', 'heard', 'heart', 'hee', 'hello', 'help', 'hey', 'hg', 'hg suite342', 'hg suite342 2lands', 'hg suite342 2lands row', 'hi', 'hi darlin', 'hi hi', 'hi hi hi', 'hit', 'hmm', 'hmmm', 'hmv', 'hold', 'holiday', 'holiday 5000', 'home', 'hope', 'hope good', 'hope having', 'hoping', 'hospital', 'hot', 'hour', 'hours', 'house', 'hows', 'http', 'http www', 'huh', 'hungry', 'hurt', 'hw', 'i_', 'id', 'identifier', 'identifier code', 'ii', 'il', 'ill', 'im', 'immediately', 'important', 'india', 'info', 'information', 'invited', 'ipod', 'isn', 'jay', 'job', 'john', 'join', 'joy', 'jus', 'just', 'just got', 'just text', 'just txt', 'juz', 'kate', 'kids', 'kind', 'kiss', 'knew', 'know', 'knw', 'land', 'land line', 'land line claim', 'landline', 'laptop', 'lar', 'late', 'later', 'latest', 'laugh', 'leave', 'leaves', 'leaving', 'left', 'leh', 'lei', 'lesson', 'let', 'let know', 'lets', 'liao', 'life', 'light', 'like', 'like lt', 'like lt gt', 'line', 'line claim', 'line rental', 'link', 'listen', 'little', 'live', 'live operator', 'll', 'll later', 'll text', 'loads', 'log', 'lol', 'long', 'look', 'looking', 'lor', 'lose', 'lost', 'lot', 'lots', 'lovable', 'love', 'loved', 'lovely', 'loving', 'lt', 'lt decimal', 'lt decimal gt', 'lt gt', 'lt gt lt', 'lt gt min', 'luck', 'lucky', 'lunch', 'luv', 'mah', 'mail', 'make', 'makes', 'making', 'man', 'march', 'match', 'mate', 'mates', 'mayb', 'maybe', 'mean', 'means', 'meant', 'meet', 'meeting', 'message', 'messages', 'met', 'min', 'mind', 'mins', 'minute', 'minutes', 'miss', 'missed', 'missing', 'mob', 'mobile', 'mobile number', 'mobiles', 'mobileupd8', 'mom', 'moment', 'monday', 'money', 'month', 'months', 'morning', 'motorola', 'movie', 'mr', 'mrng', 'msg', 'msgs', 'mu', 'mum', 'music', 'music 87066', 'muz', 'na', 'nah', 'national', 'national rate', 'need', 'needs', 'net', 'network', 'neva', 'new', 'new year', 'news', 'ni8', 'nice', 'nice day', 'night', 'nite', 'noe', 'nokia', 'nope', 'nt', 'number', 'numbers', 'nyt', 'offer', 'offers', 'office', 'oh', 'ok', 'ok lor', 'okay', 'okie', 'old', 'online', 'oops', 'open', 'operator', 'opt', 'orange', 'orchard', 'order', 'oredi', 'oso', 'outside', 'pa', 'pain', 'paper', 'parents', 'park', 'party', 'pass', 'pay', 'people', 'person', 'pete', 'phone', 'phone right', 'phone right pls', 'phone right pls send', 'phones', 'pic', 'pick', 'pick phone', 'pick phone right', 'pick phone right pls', 'picking', 'pics', 'place', 'plan', 'plans', 'play', 'player', 'pls', 'pls send', 'pls send message', 'plus', 'plz', 'pm', 'po', 'po box', 'pobox', 'point', 'points', 'police', 'poly', 'poor', 'post', 'pounds', 'pray', 'press', 'pretty', 'price', 'princess', 'private', 'private 2003', 'private 2003 account', 'private 2003 account statement', 'prize', 'prize claim', 'prize guaranteed', 'prob', 'probably', 'problem', 'project', 'pub', 'question', 'questions', 'quite', 'quiz', 'rakhesh', 'rate', 'rates', 'reach', 'reached', 'read', 'reading', 'ready', 'real', 'really', 'reason', 'receive', 'receive 350', 'red', 'redeemed', 'redeemed points', 'remember', 'remove', 'rental', 'reply', 'reply 08000930705', 'reply stop', 'representative', 'rest', 'reveal', 'reveal thinks', 'reward', 'right', 'right pls', 'right pls send', 'right pls send message', 'ring', 'ringtone', 'ringtones', 'rite', 'rock', 'room', 'row', 'row w1j6hl', 'rply', 'rs', 'run', 'sad', 'sae', 'sae cs', 'safe', 'said', 'sat', 'saturday', 'savamob', 'saw', 'say', 'saying', 'says', 'sch', 'school', 'sea', 'search', 'second', 'secret', 'seeing', 'seen', 'selected', 'selected receive', 'semester', 'send', 'send message', 'send stop', 'sending', 'sent', 'service', 'services', 'set', 'sex', 'sexy', 'shall', 'shit', 'shop', 'shopping', 'shower', 'shows', 'shows 800', 'shows 800 redeemed', 'shows 800 redeemed points', 'shows won', 'simple', 'sir', 'sis', 'sister', 'sleep', 'sleeping', 'slow', 'slowly', 'small', 'smile', 'smiling', 'smoke', 'sms', 'sms ac', 'smth', 'snow', 'somebody', 'song', 'soon', 'sorry', 'sorry ll', 'sorry ll later', 'sort', 'sound', 'sounds', 'speak', 'special', 'st', 'start', 'started', 'statement', 'stay', 'std', 'stop', 'stop texts', 'store', 'story', 'study', 'stuff', 'stupid', 'sub', 'suite342', 'suite342 2lands', 'suite342 2lands row', 'suite342 2lands row w1j6hl', 'sun', 'sunday', 'support', 'supposed', 'sure', 'surprise', 'sweet', 'swing', 'takes', 'taking', 'talk', 'talking', 'tc', 'tel', 'tell', 'tell ur', 'telling', 'terms', 'test', 'text', 'texts', 'th', 'thank', 'thanks', 'thanx', 'thats', 'thing', 'things', 'think', 'thinking', 'thinks', 'thk', 'tho', 'thought', 'tickets', 'til', 'till', 'time', 'times', 'tired', 'tmr', 'today', 'todays', 'told', 'tomo', 'tomorrow', 'tone', 'tone ur', 'tones', 'tonight', 'tonite', 'took', 'tot', 'touch', 'town', 'treat', 'tried', 'tried contact', 'trip', 'true', 'truth', 'try', 'trying', 'trying contact', 'ts', 'ts cs', 'tv', 'txt', 'txt nokia', 'txt stop', 'txt word', 'txting', 'txts', 'type', 'u_', 'ugh', 'uk', 'uncle', 'understand', 'unlimited', 'unsubscribe', 'update', 'ur', 'ur awarded', 'ur cash', 'ur friends', 'ur mates', 'ur mob', 'ur mobile', 'urgent', 'urgent mobile', 'urgent trying', 'urgent trying contact', 'use', 'used', 'usf', 'usual', 'valid', 'valid 12hrs', 'valued', 've', 've got', 'video', 'visit', 'voucher', 'vouchers', 'w1j6hl', 'wait', 'waiting', 'wake', 'walk', 'wan', 'wana', 'wanna', 'want', 'want come', 'want new', 'wanted', 'wants', 'wap', 'wasn', 'wat', 'wat doing', 'wat time', 'watch', 'watching', 'watching tv', 'water', 'way', 'week', 'week just', 'week just txt', 'weekend', 'weekly', 'weeks', 'welcome', 'wen', 'went', 'whats', 'wid', 'wif', 'wife', 'wil', 'win', 'wine', 'winner', 'wish', 'wishing', 'wit', 'wk', 'wk txt', 'wkly', 'woke', 'won', 'won 000', 'won guaranteed', 'won guaranteed 1000', 'won guaranteed 1000 cash', 'wonder', 'wonderful', 'wont', 'word', 'words', 'work', 'working', 'world', 'worried', 'worry', 'worth', 'wot', 'wow', 'wrong', 'www', 'xmas', 'xx', 'xxx', 'ya', 'yar', 'yeah', 'year', 'years', 'yep', 'yes', 'yesterday', 'yo', 'yr', 'yup']\n"
          ],
          "name": "stdout"
        },
        {
          "output_type": "execute_result",
          "data": {
            "text/plain": [
              "array([ 29,  13,  12,  13,  15,  16,  40,  41,  41,  23,  24,  13,  17,\n",
              "        12,  17,  18,  71,  17,  34,  52,  51,  38,  11,  12,  12,  25,\n",
              "        14,  10,  13,  13,  13,  18,  15,  15,  11,  30,  14,  15,  15,\n",
              "        12,  61,  44,  25,  19,  22,  12,  12,  21,  19,  12,  13,  10,\n",
              "        11,  26,  26,  12,  40,  16,  32,  22,  10,  19,  28,  13,  13,\n",
              "        36,  33,  24,  86,  18,  12,  22,  16,  32,  22,  13,  11,  89,\n",
              "        12,  28,  11,  13,  24,  14,  18,  18,  20,  19,  29,  38,  25,\n",
              "        19,  14,  79,  31,  32,  13,  14,  11,  11,  21,  32,  21,  46,\n",
              "        43,  37,  36,  43,  11,  14,  21,  11,  11,  23,  10,  23,  15,\n",
              "        35,  32,  16,  17,  26,  20,  13,  34,  11,  11,  29,  21,  67,\n",
              "        12,  33,  13,  12,  10,  21,  27,  15,  12,  11,  27,  38,  41,\n",
              "        17,  71,  17,  14,  88,  10,  10,  18,  39,  17,  22,  20,  12,\n",
              "        58,  10,  10,  39,  11,  15,  20,  17,  13, 113,  12,  13,  45,\n",
              "        11,  18,  20,  31,  28,  26,  16,  23,  71, 229,  13,  11,  21,\n",
              "        11,  51,  12,  17,  12,  12,  12,  19,  15,  68,  15,  10,  42,\n",
              "        12,  76,  34,  14,  13,  14,  22,  11,  15,  14,  44,  14,  13,\n",
              "        10,  58,  19,  10,  10,  13, 150,  29,  15,  12,  41,  21,  17,\n",
              "        15, 229,  44, 122,  16,  25,  23,  10,  10,  22,  32,  27, 131,\n",
              "        46,  30,  12,  10,  12,  36,  12,  30,  11,  13,  32,  18,  11,\n",
              "        10,  88, 162,  30,  10, 144,  16,  23,  13,  13,  44,  15,  15,\n",
              "        11,  20,  18,  20,  22,  18,  10,  23,  55,  12,  31,  14,  33,\n",
              "        31,  38,  12,  19,  40,  12,  40,  13,  11,  26,  20,  28,  11,\n",
              "        11,  17,  12,  30,  22,  14,  16,  16,  13,  62,  22,  11,  13,\n",
              "        18,  15,  52,  42,  19,  14,  23,  18,  32,  14, 284,  16,  14,\n",
              "        15,  15,  52,  55,  22,  14,  16,  14,  29,  15,  31,  12,  21,\n",
              "        20,  13,  18,  11,  50,  10,  25,  36,  16,  11,  46,  26,  10,\n",
              "        22, 173,  16,  58, 245,  13,  32,  19,  15, 239,  12,  19, 115,\n",
              "        17,  12, 318,  18,  15,  13,  50,  12,  12,  55,  12,  13,  38,\n",
              "        26,  36,  12,  16,  23,  51,  24,  39,  12,  15,  20,  16,  13,\n",
              "       107,  12,  19,  18,  16,  26,  23,  24,  42,  19,  32,  12,  49,\n",
              "        13,  53,  58, 112,  11,  11,  11,  11, 138,  10,  18,  11,  15,\n",
              "        14,  13,  10,  14,  47,  10, 167, 113,  11,  12,  10,  10,  22,\n",
              "        30,  21,  43,  15,  21,  12,  20,  14,  22,  10, 120,  23,  16,\n",
              "        16,  53,  10,  42,  84,  10,  26,  13,  16,  12,  13,  12,  13,\n",
              "        14,  43,  12,  27,  12,  35, 371,  21,  10,  14,  25,  11,  10,\n",
              "        16,  31,  12, 261,  17,  18,  18,  14,  34,  12,  38,  59, 135,\n",
              "        39,  10,  57,  10,  20,  31,  30,  23,  17,  79,  40,  18,  37,\n",
              "        82,  15, 245,  14,  14,  43,  14,  11,  10,  14,  30,  46,  10,\n",
              "       269,  42,  13,  11,  14,  74,  42,  31,  29, 162,  21,  13,  38,\n",
              "        17,  11, 209,  11,  15,  17, 316,  23,  23, 276,  13,  11,  13,\n",
              "        17,  46,  35,  13,  27, 102,  23,  23,  46,  13,  11,  14,  15,\n",
              "        13,  32,  20,  26,  14,  83,  43,  96,  25,  12,  67,  41,  48,\n",
              "        19,  32,  77,  25,  28,  25, 142,  13,  12,  16,  16,  10,  11,\n",
              "        60,  39,  10,  79,  13,  21,  13,  14, 111,  17,  14,  19,  24,\n",
              "        10,  11,  13,  10,  22,  20, 168,  16,  23,  29,  18, 136,  23,\n",
              "        19,  14,  62,  15, 115,  22,  20,  70,  15,  21,  97,  13,  11,\n",
              "        34,  14,  31, 114, 292,  22,  27,  19,  20,  23,  10,  17,  15,\n",
              "        17,  31,  11,  21,  15,  23,  15,  35,  26,  11,  17,  13,  15,\n",
              "        12,  31,  50,  42,  10, 126,  12,  12,  12,  13,  19,  71,  14,\n",
              "        12,  12,  12,  19,  60,  32,  11,  39,  15, 134,  22,  13,  25,\n",
              "        25,  19,  32,  25,  16,  13,  20,  11,  19,  10,  19,  19,  10,\n",
              "        13,  15,  25,  32,  19,  13,  13,  13,  93,  17,  22,  16,  33,\n",
              "        38,  14,  18,  22,  12,  35,  15,  10,  32,  10,  31,  10,  15,\n",
              "        13,  42,  39,  86,  14,  38,  10,  12,  12,  12,  32,  11,  12,\n",
              "       148,  14,  11,  10,  11,  12,  10,  11,  92,  12,  12,  12,  20,\n",
              "        31,  10,  19,  11,  34,  19,  11,  11,  15,  23,  21,  21,  10,\n",
              "        11,  88,  32,  16,  14,  24,  92,  20,  27,  22,  27,  15,  17,\n",
              "        18,  15,  14,  12,  29,  19,  12, 199,  16,  21,  12,  70,  60,\n",
              "        18,  20,  13,  27,  32,  37,  23,  31,  11,  36,  12,  12,  12,\n",
              "        15,  19,  39,  17,  17,  58,  20,  11,  11,  11,  45,  20,  17,\n",
              "        57,  12,  16,  14,  11,  12,  61, 160,  39,  38,  11,  11,  17,\n",
              "        33,  51,  12,  36,  19,  17,  23,  11, 158,  10,  11,  20,  10,\n",
              "        45,  13,  10,  15,  15,  15,  11,  16,  14,  13,  12,  71,  12,\n",
              "        35,  12,  16,  18,  45,  13,  14,  15, 138,  15,  14,  10,  22,\n",
              "       193,  28,  12,  29,  76,  32,  43,  62,  54, 132,  19,  14,  50,\n",
              "        18,  47,  10,  26,  24, 220,  25,  13,  28, 160,  21,  54,  19,\n",
              "        93,  60,  12,  26,  59,  10,  19,  21,  17,  28,  16,  22,  12,\n",
              "        21,  27,  11,  49,  43,  15,  10,  10,  33, 177,  13,  16,  15,\n",
              "        11,  13,  16,  15,  12,  75,  12,  13,  14,  18,  24, 385,  14,\n",
              "        13,  12,  12,  15,  12,  70,  18,  11,  11,  49,  15,  11,  10,\n",
              "        24,  17,  13,  96,  11,  34,  16,  17,  21,  11,  66,  53,  26,\n",
              "        19,  55,  11,  38, 194,  14,  12,  26,  21,  11,  13, 107,  11,\n",
              "        18,  33,  34,  10,  10, 102, 126,  15,  11,  33,  24,  15,  14,\n",
              "        24,  62,  17,  21,  27,  29,  18,  75,  11,  16,  54,  10,  15,\n",
              "        39,  10,  14,  10,  95,  10,  13,  10,  10,  11,  15,  32,  38,\n",
              "        23, 100,  29,  38,  10,  24,  17,  26,  12,  15, 100,  27,  17,\n",
              "        33,  58,  13,  87,  50,  25,  10, 103,  24,  39,  14,  43])"
            ]
          },
          "metadata": {
            "tags": []
          },
          "execution_count": 20
        }
      ]
    }
  ]
}