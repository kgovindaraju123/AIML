{
  "nbformat": 4,
  "nbformat_minor": 0,
  "metadata": {
    "colab": {
      "name": "Mar5GensimWordtoVec.ipynb",
      "provenance": [],
      "collapsed_sections": [],
      "authorship_tag": "ABX9TyNwcMUne0KmOtSxkjP7fZOE",
      "include_colab_link": true
    },
    "kernelspec": {
      "name": "python3",
      "display_name": "Python 3"
    }
  },
  "cells": [
    {
      "cell_type": "markdown",
      "metadata": {
        "id": "view-in-github",
        "colab_type": "text"
      },
      "source": [
        "<a href=\"https://colab.research.google.com/github/kgovindaraju123/AIML/blob/master/Mar5GensimWordtoVec.ipynb\" target=\"_parent\"><img src=\"https://colab.research.google.com/assets/colab-badge.svg\" alt=\"Open In Colab\"/></a>"
      ]
    },
    {
      "cell_type": "code",
      "metadata": {
        "id": "5M9ZLsjxNDUA",
        "colab_type": "code",
        "colab": {}
      },
      "source": [
        "import gensim\n",
        "from gensim import corpora\n",
        "from pprint import pprint"
      ],
      "execution_count": 0,
      "outputs": []
    },
    {
      "cell_type": "code",
      "metadata": {
        "id": "dzEl5o4K2xfc",
        "colab_type": "code",
        "colab": {}
      },
      "source": [
        "documents= [\"An aide to Sen. Lamar Alexander, R-Tennessee, said the Obama administration made no such rule change\"\n",
        " \"The aide, Taylor Haulsee, said the Obama administration did propose that the Food and Drug Administration have more oversight over approving diagnostic tests, but that did not go through.\"]\n",
        "\n",
        "document_2=[\"Breaking news, interchangeably termed late-breaking news and also known as a special report or special coverage or news flash, is a current issue that broadcasters feel warrants the interruption of scheduled programming and/or current news in order to report its details.\" \"This is my own sentence.\"]"
      ],
      "execution_count": 0,
      "outputs": []
    },
    {
      "cell_type": "markdown",
      "metadata": {
        "id": "mYIb2L0Y4WUE",
        "colab_type": "text"
      },
      "source": [
        "How to take sentences as documents and how to add other sentetnces as documents to be appended to first document "
      ]
    },
    {
      "cell_type": "code",
      "metadata": {
        "id": "FqArtI8v4AAc",
        "colab_type": "code",
        "colab": {}
      },
      "source": [
        "#Tokenize (split) the sentetnces into words\n",
        "texts=[[text for text in doc.split()] for doc in documents] "
      ],
      "execution_count": 0,
      "outputs": []
    },
    {
      "cell_type": "code",
      "metadata": {
        "id": "lr-RlPVk6Hkr",
        "colab_type": "code",
        "colab": {
          "base_uri": "https://localhost:8080/",
          "height": 71
        },
        "outputId": "0019d459-9536-4864-fcc4-49c4a261416e"
      },
      "source": [
        "#Creates dictionary\n",
        "dictionary=corpora.Dictionary(texts)\n",
        "#get information about the dictionary\n",
        "print(dictionary)\n",
        "#show the word to id map\n",
        "print(dictionary.token2id)"
      ],
      "execution_count": 15,
      "outputs": [
        {
          "output_type": "stream",
          "text": [
            "Dictionary(37 unique tokens: ['Administration', 'Alexander,', 'An', 'Drug', 'Food']...)\n",
            "{'Administration': 0, 'Alexander,': 1, 'An': 2, 'Drug': 3, 'Food': 4, 'Haulsee,': 5, 'Lamar': 6, 'Obama': 7, 'R-Tennessee,': 8, 'Sen.': 9, 'Taylor': 10, 'administration': 11, 'aide': 12, 'aide,': 13, 'and': 14, 'approving': 15, 'but': 16, 'changeThe': 17, 'diagnostic': 18, 'did': 19, 'go': 20, 'have': 21, 'made': 22, 'more': 23, 'no': 24, 'not': 25, 'over': 26, 'oversight': 27, 'propose': 28, 'rule': 29, 'said': 30, 'such': 31, 'tests,': 32, 'that': 33, 'the': 34, 'through.': 35, 'to': 36}\n"
          ],
          "name": "stdout"
        }
      ]
    },
    {
      "cell_type": "code",
      "metadata": {
        "id": "wPr3CVWu7I1m",
        "colab_type": "code",
        "colab": {
          "base_uri": "https://localhost:8080/",
          "height": 71
        },
        "outputId": "7c946b70-2ee6-42ce-a8bc-6c51227ab762"
      },
      "source": [
        "texts_2=[[text for text in doc.split()] for doc in document_2]\n",
        "dictionary.add_documents(texts_2)\n",
        "#the dictionary should have been updated with new words from document 2\n",
        "print(dictionary)\n",
        "print(dictionary.token2id)"
      ],
      "execution_count": 18,
      "outputs": [
        {
          "output_type": "stream",
          "text": [
            "Dictionary(70 unique tokens: ['Administration', 'Alexander,', 'An', 'Drug', 'Food']...)\n",
            "{'Administration': 0, 'Alexander,': 1, 'An': 2, 'Drug': 3, 'Food': 4, 'Haulsee,': 5, 'Lamar': 6, 'Obama': 7, 'R-Tennessee,': 8, 'Sen.': 9, 'Taylor': 10, 'administration': 11, 'aide': 12, 'aide,': 13, 'and': 14, 'approving': 15, 'but': 16, 'changeThe': 17, 'diagnostic': 18, 'did': 19, 'go': 20, 'have': 21, 'made': 22, 'more': 23, 'no': 24, 'not': 25, 'over': 26, 'oversight': 27, 'propose': 28, 'rule': 29, 'said': 30, 'such': 31, 'tests,': 32, 'that': 33, 'the': 34, 'through.': 35, 'to': 36, 'Breaking': 37, 'a': 38, 'also': 39, 'and/or': 40, 'as': 41, 'broadcasters': 42, 'coverage': 43, 'current': 44, 'details.This': 45, 'feel': 46, 'flash,': 47, 'in': 48, 'interchangeably': 49, 'interruption': 50, 'is': 51, 'issue': 52, 'its': 53, 'known': 54, 'late-breaking': 55, 'my': 56, 'news': 57, 'news,': 58, 'of': 59, 'or': 60, 'order': 61, 'own': 62, 'programming': 63, 'report': 64, 'scheduled': 65, 'sentence.': 66, 'special': 67, 'termed': 68, 'warrants': 69}\n"
          ],
          "name": "stdout"
        }
      ]
    },
    {
      "cell_type": "code",
      "metadata": {
        "id": "M9RZFypy8L9x",
        "colab_type": "code",
        "colab": {}
      },
      "source": [
        "#How to load data from single file uploaded\n",
        "from gensim.utils import simple_preprocess\n",
        "from smart_open import smart_open\n",
        "import os\n",
        "\n",
        "#create gensim dictionary from a single text file\n",
        "dictionary = corpora.Dictionary(simple_preprocess(line,deacc=True) for line in open('sample.txt',encoding='utf-8'))\n",
        "#Token to Id Map\n",
        "dictionary.token2id"
      ],
      "execution_count": 0,
      "outputs": []
    },
    {
      "cell_type": "code",
      "metadata": {
        "id": "fl9PLH_o9PS5",
        "colab_type": "code",
        "colab": {}
      },
      "source": [
        "#How to read multiple files data from a folder\n",
        "class ReadTxtFiles(object):\n",
        "  def __init__(self,dirname):\n",
        "    self.dirname=dirname\n",
        "  def __iter__(self):\n",
        "    for fname in os.listdir(self.dirname):\n",
        "      for line in open(os.path.join(self.dirname,fname),encoding='latin'):\n",
        "        yield simple_preprocess(line)\n",
        "path_to_text_directory=\"Multiple\"\n",
        "dictionary=corpora.Dictionary(ReadTxtFiles(path_to_text_directory))\n",
        "# Token to Id Map\n",
        "dictionary.token2id"
      ],
      "execution_count": 0,
      "outputs": []
    }
  ]
}