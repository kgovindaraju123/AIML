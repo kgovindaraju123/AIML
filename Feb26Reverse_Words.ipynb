{
  "nbformat": 4,
  "nbformat_minor": 0,
  "metadata": {
    "colab": {
      "name": "Feb26Reverse_Words.ipynb",
      "provenance": [],
      "authorship_tag": "ABX9TyMj6FKiug/bLDPh87oq4DaA",
      "include_colab_link": true
    },
    "kernelspec": {
      "name": "python3",
      "display_name": "Python 3"
    }
  },
  "cells": [
    {
      "cell_type": "markdown",
      "metadata": {
        "id": "view-in-github",
        "colab_type": "text"
      },
      "source": [
        "<a href=\"https://colab.research.google.com/github/kgovindaraju123/AIML/blob/master/Feb26Reverse_Words.ipynb\" target=\"_parent\"><img src=\"https://colab.research.google.com/assets/colab-badge.svg\" alt=\"Open In Colab\"/></a>"
      ]
    },
    {
      "cell_type": "code",
      "metadata": {
        "id": "ARjKbzfy84lJ",
        "colab_type": "code",
        "colab": {
          "base_uri": "https://localhost:8080/",
          "height": 68
        },
        "outputId": "776cbb86-e67d-4a65-95d1-cc96c55b996f"
      },
      "source": [
        "news = \"this is a story\"\n",
        "len(news)\n",
        "news_v=news.split(\" \")\n",
        "print(news_v)\n",
        "rev_news=news_v[-1::-1]\n",
        "print(rev_news)\n",
        "reverse_news=' '.join(rev_news)\n",
        "print(reverse_news)"
      ],
      "execution_count": 3,
      "outputs": [
        {
          "output_type": "stream",
          "text": [
            "['this', 'is', 'a', 'story']\n",
            "['story', 'a', 'is', 'this']\n",
            "story a is this\n"
          ],
          "name": "stdout"
        }
      ]
    }
  ]
}